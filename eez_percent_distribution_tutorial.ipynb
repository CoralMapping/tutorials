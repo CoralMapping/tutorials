{
 "cells": [
  {
   "cell_type": "markdown",
   "metadata": {},
   "source": [
    "# Tutorial: Getting the Percent Distribution of Benthic and Geomorphic Classes Given an EEZ\n",
    "\n",
    "### Purpose\n",
    "In this tutorial, we'll walk through how to get the percent distribution of benthic and geomorphic classes within the bounds of an Exclusive Economic Zone (EEZ). The percent distribution is based off of the Allen Coral Atlas (ACA) and the EEZ is based off of the Marine Regions web map services layer. This is a starting guide that can serve as a launchpad for further analyses such as comparing the percent distribution of multiple countries and integration of other datasets for analysis.\n",
    "\n",
    "\n",
    "### Setup\n",
    "We recommend using a Conda environment with the packages listed below. Instructions to add a Conda environment to a jupyter notebook can be found [here](https://medium.com/@nrk25693/how-to-add-your-conda-environment-to-your-jupyter-notebook-in-just-4-steps-abeab8b8d084), and Conda documentation can be found [here](https://docs.conda.io/en/latest/).\n",
    " \n",
    " ### Contents\n",
    " \n",
    " 1. Creating a Dictionary of Countries/Areas and Their Associated Marine Regions ID (MRGID)\n",
    "\n",
    " 2. Retrieving Benthic and Geomorphic Layers for a Given EEZ\n",
    "\n",
    " 3. Reproject the Layers to an Equal Area Projection\n",
    " \n",
    " 4. Calculate Percent Distribution for the Benthic and Geomorphic Classes\n",
    " \n",
    " 5. Visualization: Reproducing Donut Charts from the Web Platform\n",
    " \n",
    " 6. Comparison between Tonga and Jamaica\n",
    " "
   ]
  },
  {
   "cell_type": "markdown",
   "metadata": {},
   "source": [
    "### Considerations\n",
    "\n",
    "- Currently, the Equal Area projection used in this tutorial is Eckert IV. Further work and research is being conducted to find the optimal projection that accurately reflects the total area for an EEZ.\n",
    "- Error handling has not been implemented for clarity's sake\n",
    "- Unit testing has not been implemented but is advised when doing these analyses\n",
    "- For regions such as Fiji, it is advised to change projections to a Pacific centered projection\n"
   ]
  },
  {
   "cell_type": "markdown",
   "metadata": {},
   "source": [
    "### Packages to Import\n",
    "- Note: while no explicit calls are made, the `rtree` package is a required dependency for geopandas spatial joins"
   ]
  },
  {
   "cell_type": "code",
   "execution_count": 2,
   "metadata": {},
   "outputs": [
    {
     "ename": "ModuleNotFoundError",
     "evalue": "No module named 'matplotlib'",
     "output_type": "error",
     "traceback": [
      "\u001b[0;31m---------------------------------------------------------------------------\u001b[0m",
      "\u001b[0;31mModuleNotFoundError\u001b[0m                       Traceback (most recent call last)",
      "\u001b[0;32m<ipython-input-2-2e5469ae2e67>\u001b[0m in \u001b[0;36m<module>\u001b[0;34m()\u001b[0m\n\u001b[1;32m      1\u001b[0m \u001b[0;32mimport\u001b[0m \u001b[0mgeopandas\u001b[0m \u001b[0;32mas\u001b[0m \u001b[0mgpd\u001b[0m\u001b[0;34m\u001b[0m\u001b[0;34m\u001b[0m\u001b[0m\n\u001b[1;32m      2\u001b[0m \u001b[0;32mimport\u001b[0m \u001b[0mjson\u001b[0m\u001b[0;34m\u001b[0m\u001b[0;34m\u001b[0m\u001b[0m\n\u001b[0;32m----> 3\u001b[0;31m \u001b[0;32mimport\u001b[0m \u001b[0mmatplotlib\u001b[0m\u001b[0;34m.\u001b[0m\u001b[0mpyplot\u001b[0m \u001b[0;32mas\u001b[0m \u001b[0mplt\u001b[0m\u001b[0;34m\u001b[0m\u001b[0;34m\u001b[0m\u001b[0m\n\u001b[0m\u001b[1;32m      4\u001b[0m \u001b[0;32mimport\u001b[0m \u001b[0mrtree\u001b[0m\u001b[0;34m\u001b[0m\u001b[0;34m\u001b[0m\u001b[0m\n\u001b[1;32m      5\u001b[0m \u001b[0;32mimport\u001b[0m \u001b[0mrequests\u001b[0m\u001b[0;34m\u001b[0m\u001b[0;34m\u001b[0m\u001b[0m\n",
      "\u001b[0;31mModuleNotFoundError\u001b[0m: No module named 'matplotlib'"
     ]
    }
   ],
   "source": [
    "import geopandas as gpd\n",
    "import json\n",
    "import matplotlib.pyplot as plt\n",
    "import rtree\n",
    "import requests\n",
    "\n",
    "from osgeo import ogr\n",
    "\n",
    "from owslib.wfs import WebFeatureService\n",
    "from owslib.wms import WebMapService"
   ]
  },
  {
   "cell_type": "markdown",
   "metadata": {},
   "source": [
    "# 1. Creating a Dictionary of Territories and Their Associated Marine Regions ID (MRGID)"
   ]
  },
  {
   "cell_type": "markdown",
   "metadata": {},
   "source": [
    "First, we'll create a dictionary with the keys being all the areas within the ACA and the values being the associated Marine Regions ID. We'll need the Marine Regions ID in the second section in order to obtain the EEZ of a specific country/area. To do so, we'll grab the Marine Regions EEZ map and restrict the output with a bounding box that is representative of the ACA area.\n",
    "\n",
    "Note that this request can take up to 3 minutes."
   ]
  },
  {
   "cell_type": "code",
   "execution_count": 2,
   "metadata": {},
   "outputs": [],
   "source": [
    "wfs = WebFeatureService(url='https://geo.vliz.be/geoserver/MarineRegions/wfs', version='1.1.0')\n",
    "response = wfs.getfeature(typename='MarineRegions:eez', \n",
    "                          bbox=(-180,-23.5,180,20), \n",
    "                          srsname='urn:x-ogc:def:crs:EPSG:4326', \n",
    "                          outputFormat='application/json')\n",
    "eez_data = json.load(response)"
   ]
  },
  {
   "cell_type": "markdown",
   "metadata": {},
   "source": [
    "Here, we create the dictionary and ensure that disputed and/or shared territories are included with the following filtering parameters."
   ]
  },
  {
   "cell_type": "code",
   "execution_count": 3,
   "metadata": {},
   "outputs": [],
   "source": [
    "mrgid_dict = {}\n",
    "for country in eez_data['features']:\n",
    "    if country['properties']['pol_type'] == '200NM':\n",
    "        mrgid_dict[country['properties']['territory1']] = country['properties']['mrgid']\n",
    "    else:\n",
    "        mrgid_dict[country['properties']['geoname']] = country['properties']['mrgid']"
   ]
  },
  {
   "cell_type": "markdown",
   "metadata": {},
   "source": [
    "Now that we have successfully created a dictionary of countries/areas with their associated MRGID, we can take a look at the first 10 entries."
   ]
  },
  {
   "cell_type": "code",
   "execution_count": 4,
   "metadata": {
    "scrolled": false
   },
   "outputs": [
    {
     "data": {
      "text/plain": [
       "{'Chagos Archipelago': 62589,\n",
       " 'Joint regime area Colombia / Dominican Republic': 48970,\n",
       " 'Overlapping claim: Venezuela / Colombia / Dominican Republic': 48971,\n",
       " 'Joint regime area Honduras / Cayman Islands': 48972,\n",
       " 'Venezuela': 8433,\n",
       " 'Honduras': 8427,\n",
       " 'Johnston Atoll': 8452,\n",
       " 'Colombia': 8426,\n",
       " 'Yemen': 8353,\n",
       " 'Christmas Island': 8309}"
      ]
     },
     "execution_count": 4,
     "metadata": {},
     "output_type": "execute_result"
    }
   ],
   "source": [
    "{eez: mrgid_dict[eez] for eez in list(mrgid_dict)[:10]}"
   ]
  },
  {
   "cell_type": "markdown",
   "metadata": {},
   "source": [
    "In total, we have 171 entries."
   ]
  },
  {
   "cell_type": "code",
   "execution_count": 5,
   "metadata": {},
   "outputs": [
    {
     "data": {
      "text/plain": [
       "171"
      ]
     },
     "execution_count": 5,
     "metadata": {},
     "output_type": "execute_result"
    }
   ],
   "source": [
    "len(mrgid_dict)"
   ]
  },
  {
   "cell_type": "markdown",
   "metadata": {},
   "source": [
    "# 2. Retrieving Benthic and Geomorphic Layers for a Given EEZ\n",
    "\n",
    "With our dictionary completed, we can now go through the process of obtaining the benthic and geomorphic layers for a specific area of interest. There are four steps to this:\n",
    "\n",
    "1. Getting the EEZ area based off of a MRGID\n",
    "2. Making a bounding box from said EEZ area\n",
    "3. Obtaining the layers from the ACA using the bounding box\n",
    "4. Getting the intersection between the ACA and the Marine Regions EEZ area\n",
    "\n",
    "\n",
    "Here is the overview of the helper functions to achieve these four steps:\n",
    "\n",
    "- `get_eez_map(country_mrgid)`: Gets the EEZ geojson from the Marine Regions GeoServer\n",
    "- `make_bounding_box(geojson)`: Transforms a geojson to a bounding box\n",
    "- `get_aca_layer(layer, bounding_box)`: Given a bounding box, a request is made and downloads either the benthic and geomorphic layers from the Allen Coral Atlas\n",
    "- `eez_intersection(aca_layer,eez)`: Get the intersection between the Allen Coral Atlas layers and the EEZ geojson from Marine Regions"
   ]
  },
  {
   "cell_type": "markdown",
   "metadata": {},
   "source": [
    "Note: The external inquiry made in the `get_eez_map` method can take more than a minute."
   ]
  },
  {
   "cell_type": "code",
   "execution_count": 6,
   "metadata": {},
   "outputs": [],
   "source": [
    "def get_eez_map(country_mrgid):\n",
    "    '''Given a country mrgid(Marine region country code), returns a geojson of a country\\'s EEZ'''\n",
    "    url = 'https://geo.vliz.be/geoserver/MarineRegions/wfs?service=WFS&version=1.1.0&request=GetFeature&typeName=eez&cql_filter=mrgid=' + str(country_mrgid) + '&outputformat=application/json'\n",
    "    response = requests.get(url)\n",
    "    eez = response.json()\n",
    "    return eez"
   ]
  },
  {
   "cell_type": "markdown",
   "metadata": {},
   "source": [
    "The `make_bounding_box` helper function grabs the first feature and protects if from wrapping at the antimeridian."
   ]
  },
  {
   "cell_type": "code",
   "execution_count": 7,
   "metadata": {},
   "outputs": [],
   "source": [
    "def make_bounding_box(geojson):\n",
    "    '''From a geojson, creates a bounding box which is a list of 4 coordinates'''\n",
    "    geom_text = json.dumps(geojson[\"features\"][0][\"geometry\"])\n",
    "    geom = ogr.CreateGeometryFromJson(geom_text)\n",
    "    env = geom.GetEnvelope()\n",
    "\n",
    "    MAX_LONG = 180.0\n",
    "    MIN_LONG = -180.0\n",
    "    MAX_LAT = 90.0\n",
    "    MIN_LAT = -90.0\n",
    "\n",
    "    return (max(min(MAX_LONG, env[0]), MIN_LONG),\n",
    "            max(min(MAX_LAT, env[2]), MIN_LAT),\n",
    "            max(min(MAX_LONG, env[1]), MIN_LONG),\n",
    "            max(min(MAX_LAT, env[3]), MIN_LAT))"
   ]
  },
  {
   "cell_type": "code",
   "execution_count": 1,
   "metadata": {},
   "outputs": [],
   "source": [
    "def get_aca_layer(layer, bounding_box):\n",
    "    '''Gets either geomorphic or benthic layer in geojson from the ACA'''\n",
    "    # layer options: ['reef_polygons_benthic_expanded'] or ['reef_polygons_geomorphic_expanded']\n",
    "    wms = WebMapService('https://allencoralatlas.org/geoserver/coral-atlas/wms', version='1.3.0')\n",
    "    country_aca_layer = wms.getmap(layers=layer, \n",
    "                                   srs='EPSG:4326', \n",
    "                                   bbox=bounding_box, \n",
    "                                   size=(1000,1000),\n",
    "                                   format='application/json;type=geojson')\n",
    "    try:\n",
    "        country_aca_layer_geojson = json.load(country_aca_layer)\n",
    "        return country_aca_layer_geojson\n",
    "    except ValueError:\n",
    "        if country_aca_layer._response.status_code == 429:\n",
    "            print('Too many requests have been made in a given amount of time, please wait another minute to send another request.')\n",
    "        else:\n",
    "            print('Error acquiring layer, response code: ' + country_aca_layer._response.status_code)         "
   ]
  },
  {
   "cell_type": "markdown",
   "metadata": {},
   "source": [
    "After obtaining the intersection, the layers are now in GeoDataFrame for ease of calculating percent distribution in the next steps."
   ]
  },
  {
   "cell_type": "code",
   "execution_count": 9,
   "metadata": {},
   "outputs": [],
   "source": [
    "def eez_intersection(aca_layer, eez):\n",
    "    '''After getting a benthic/geomorphic layer, get EEZ region in the form of a geodataframe'''\n",
    "    aca_layer = gpd.GeoDataFrame.from_features(aca_layer)\n",
    "    eez = gpd.GeoDataFrame.from_features(eez)\n",
    "    eez_aca_combined = gpd.sjoin(aca_layer, eez)\n",
    "\n",
    "    return eez_aca_combined"
   ]
  },
  {
   "cell_type": "markdown",
   "metadata": {},
   "source": [
    "## Example: Obtaining the Benthic and Geomorphic Layers of Tonga\n",
    "Let's take what we've learned so far to retrieve both the benthic and geomorphic layers of Tonga. We'll first use our MRGID dictionary created in the beginning of the tutorial, `mrgid_dict`, to find Tonga's MRGID."
   ]
  },
  {
   "cell_type": "code",
   "execution_count": 10,
   "metadata": {},
   "outputs": [
    {
     "data": {
      "text/plain": [
       "8448"
      ]
     },
     "execution_count": 10,
     "metadata": {},
     "output_type": "execute_result"
    }
   ],
   "source": [
    "mrgid_dict['Tonga']"
   ]
  },
  {
   "cell_type": "markdown",
   "metadata": {},
   "source": [
    "We'll now use this ID to get the bounding box of Tonga's EEZ."
   ]
  },
  {
   "cell_type": "code",
   "execution_count": 11,
   "metadata": {},
   "outputs": [],
   "source": [
    "tonga = get_eez_map(mrgid_dict['Tonga'])\n",
    "tongabbox = make_bounding_box(tonga)"
   ]
  },
  {
   "cell_type": "markdown",
   "metadata": {},
   "source": [
    "Here, we can take a look at the bounding box coordinates."
   ]
  },
  {
   "cell_type": "code",
   "execution_count": 12,
   "metadata": {
    "scrolled": true
   },
   "outputs": [
    {
     "data": {
      "text/plain": [
       "(-179.08824883, -25.69605746, -171.30527778, -14.15464022)"
      ]
     },
     "execution_count": 12,
     "metadata": {},
     "output_type": "execute_result"
    }
   ],
   "source": [
    "tongabbox"
   ]
  },
  {
   "cell_type": "markdown",
   "metadata": {},
   "source": [
    "We'll now take our `tongabbox` and obtain the benthic and geomorphic layers using our previously defined `get_aca_layer` function we defined earlier. Currently, to request the benthic layer, ['benthic_data_verbose'], is used and to request the geomorphic layer, ['geomorphic_data_verbose'], is used."
   ]
  },
  {
   "cell_type": "markdown",
   "metadata": {},
   "source": [
    "Note: To prevent overloading the GeoServer, it is advised to wait a minute between each request."
   ]
  },
  {
   "cell_type": "code",
   "execution_count": 20,
   "metadata": {},
   "outputs": [],
   "source": [
    "benthic_tonga = get_aca_layer(['benthic_data_verbose'], tongabbox)"
   ]
  },
  {
   "cell_type": "code",
   "execution_count": 22,
   "metadata": {},
   "outputs": [],
   "source": [
    "geomorphic_tonga = get_aca_layer(['geomorphic_data_verbose'], tongabbox)"
   ]
  },
  {
   "cell_type": "markdown",
   "metadata": {},
   "source": [
    "We'll now obtain the intersection between the ACA layers and the Marine Regions EEZ using our defined `eez_intersection` function. The intersection will return a GeoDataFrame which will make data analysis easier."
   ]
  },
  {
   "cell_type": "code",
   "execution_count": 26,
   "metadata": {},
   "outputs": [],
   "source": [
    "benthic_tonga_eez = eez_intersection(benthic_tonga, tonga)"
   ]
  },
  {
   "cell_type": "code",
   "execution_count": 25,
   "metadata": {},
   "outputs": [],
   "source": [
    "geomorphic_tonga_eez = eez_intersection(geomorphic_tonga, tonga)"
   ]
  },
  {
   "cell_type": "markdown",
   "metadata": {},
   "source": [
    "Taking a closer look at what we have, we see that each row of the geodataframe is a polygon that is one of the benthic/geomorphic subtypes."
   ]
  },
  {
   "cell_type": "code",
   "execution_count": 28,
   "metadata": {},
   "outputs": [
    {
     "data": {
      "text/html": [
       "<div>\n",
       "<style scoped>\n",
       "    .dataframe tbody tr th:only-of-type {\n",
       "        vertical-align: middle;\n",
       "    }\n",
       "\n",
       "    .dataframe tbody tr th {\n",
       "        vertical-align: top;\n",
       "    }\n",
       "\n",
       "    .dataframe thead th {\n",
       "        text-align: right;\n",
       "    }\n",
       "</style>\n",
       "<table border=\"1\" class=\"dataframe\">\n",
       "  <thead>\n",
       "    <tr style=\"text-align: right;\">\n",
       "      <th></th>\n",
       "      <th>geometry</th>\n",
       "      <th>area_sqkm</th>\n",
       "      <th>class_name</th>\n",
       "      <th>index_right</th>\n",
       "      <th>mrgid</th>\n",
       "      <th>geoname</th>\n",
       "      <th>mrgid_ter1</th>\n",
       "      <th>pol_type</th>\n",
       "      <th>mrgid_sov1</th>\n",
       "      <th>territory1</th>\n",
       "      <th>...</th>\n",
       "      <th>area_km2</th>\n",
       "      <th>iso_sov1</th>\n",
       "      <th>iso_sov2</th>\n",
       "      <th>iso_sov3</th>\n",
       "      <th>un_sov1</th>\n",
       "      <th>un_sov2</th>\n",
       "      <th>un_sov3</th>\n",
       "      <th>un_ter1</th>\n",
       "      <th>un_ter2</th>\n",
       "      <th>un_ter3</th>\n",
       "    </tr>\n",
       "  </thead>\n",
       "  <tbody>\n",
       "    <tr>\n",
       "      <th>8</th>\n",
       "      <td>POLYGON ((-175.29656 -21.06398, -175.29656 -21...</td>\n",
       "      <td>0.001764</td>\n",
       "      <td>Rock</td>\n",
       "      <td>0</td>\n",
       "      <td>8448</td>\n",
       "      <td>Tongan Exclusive Economic Zone</td>\n",
       "      <td>8674</td>\n",
       "      <td>200NM</td>\n",
       "      <td>8674</td>\n",
       "      <td>Tonga</td>\n",
       "      <td>...</td>\n",
       "      <td>666052</td>\n",
       "      <td>TON</td>\n",
       "      <td>None</td>\n",
       "      <td>None</td>\n",
       "      <td>776</td>\n",
       "      <td>None</td>\n",
       "      <td>None</td>\n",
       "      <td>776</td>\n",
       "      <td>None</td>\n",
       "      <td>None</td>\n",
       "    </tr>\n",
       "    <tr>\n",
       "      <th>9</th>\n",
       "      <td>POLYGON ((-175.32874 -21.06503, -175.32874 -21...</td>\n",
       "      <td>0.000009</td>\n",
       "      <td>Seagrass</td>\n",
       "      <td>0</td>\n",
       "      <td>8448</td>\n",
       "      <td>Tongan Exclusive Economic Zone</td>\n",
       "      <td>8674</td>\n",
       "      <td>200NM</td>\n",
       "      <td>8674</td>\n",
       "      <td>Tonga</td>\n",
       "      <td>...</td>\n",
       "      <td>666052</td>\n",
       "      <td>TON</td>\n",
       "      <td>None</td>\n",
       "      <td>None</td>\n",
       "      <td>776</td>\n",
       "      <td>None</td>\n",
       "      <td>None</td>\n",
       "      <td>776</td>\n",
       "      <td>None</td>\n",
       "      <td>None</td>\n",
       "    </tr>\n",
       "    <tr>\n",
       "      <th>178</th>\n",
       "      <td>POLYGON ((-175.33087 -21.06634, -175.33087 -21...</td>\n",
       "      <td>0.000085</td>\n",
       "      <td>Coral/Algae</td>\n",
       "      <td>0</td>\n",
       "      <td>8448</td>\n",
       "      <td>Tongan Exclusive Economic Zone</td>\n",
       "      <td>8674</td>\n",
       "      <td>200NM</td>\n",
       "      <td>8674</td>\n",
       "      <td>Tonga</td>\n",
       "      <td>...</td>\n",
       "      <td>666052</td>\n",
       "      <td>TON</td>\n",
       "      <td>None</td>\n",
       "      <td>None</td>\n",
       "      <td>776</td>\n",
       "      <td>None</td>\n",
       "      <td>None</td>\n",
       "      <td>776</td>\n",
       "      <td>None</td>\n",
       "      <td>None</td>\n",
       "    </tr>\n",
       "    <tr>\n",
       "      <th>179</th>\n",
       "      <td>MULTIPOLYGON (((-175.32653 -21.06046, -175.326...</td>\n",
       "      <td>0.047938</td>\n",
       "      <td>Rock</td>\n",
       "      <td>0</td>\n",
       "      <td>8448</td>\n",
       "      <td>Tongan Exclusive Economic Zone</td>\n",
       "      <td>8674</td>\n",
       "      <td>200NM</td>\n",
       "      <td>8674</td>\n",
       "      <td>Tonga</td>\n",
       "      <td>...</td>\n",
       "      <td>666052</td>\n",
       "      <td>TON</td>\n",
       "      <td>None</td>\n",
       "      <td>None</td>\n",
       "      <td>776</td>\n",
       "      <td>None</td>\n",
       "      <td>None</td>\n",
       "      <td>776</td>\n",
       "      <td>None</td>\n",
       "      <td>None</td>\n",
       "    </tr>\n",
       "    <tr>\n",
       "      <th>182</th>\n",
       "      <td>POLYGON ((-175.29289 -21.05943, -175.29140 -21...</td>\n",
       "      <td>0.094319</td>\n",
       "      <td>Rubble</td>\n",
       "      <td>0</td>\n",
       "      <td>8448</td>\n",
       "      <td>Tongan Exclusive Economic Zone</td>\n",
       "      <td>8674</td>\n",
       "      <td>200NM</td>\n",
       "      <td>8674</td>\n",
       "      <td>Tonga</td>\n",
       "      <td>...</td>\n",
       "      <td>666052</td>\n",
       "      <td>TON</td>\n",
       "      <td>None</td>\n",
       "      <td>None</td>\n",
       "      <td>776</td>\n",
       "      <td>None</td>\n",
       "      <td>None</td>\n",
       "      <td>776</td>\n",
       "      <td>None</td>\n",
       "      <td>None</td>\n",
       "    </tr>\n",
       "    <tr>\n",
       "      <th>...</th>\n",
       "      <td>...</td>\n",
       "      <td>...</td>\n",
       "      <td>...</td>\n",
       "      <td>...</td>\n",
       "      <td>...</td>\n",
       "      <td>...</td>\n",
       "      <td>...</td>\n",
       "      <td>...</td>\n",
       "      <td>...</td>\n",
       "      <td>...</td>\n",
       "      <td>...</td>\n",
       "      <td>...</td>\n",
       "      <td>...</td>\n",
       "      <td>...</td>\n",
       "      <td>...</td>\n",
       "      <td>...</td>\n",
       "      <td>...</td>\n",
       "      <td>...</td>\n",
       "      <td>...</td>\n",
       "      <td>...</td>\n",
       "      <td>...</td>\n",
       "    </tr>\n",
       "    <tr>\n",
       "      <th>16881</th>\n",
       "      <td>POLYGON ((-173.75286 -15.85832, -173.74999 -15...</td>\n",
       "      <td>0.065973</td>\n",
       "      <td>Coral/Algae</td>\n",
       "      <td>0</td>\n",
       "      <td>8448</td>\n",
       "      <td>Tongan Exclusive Economic Zone</td>\n",
       "      <td>8674</td>\n",
       "      <td>200NM</td>\n",
       "      <td>8674</td>\n",
       "      <td>Tonga</td>\n",
       "      <td>...</td>\n",
       "      <td>666052</td>\n",
       "      <td>TON</td>\n",
       "      <td>None</td>\n",
       "      <td>None</td>\n",
       "      <td>776</td>\n",
       "      <td>None</td>\n",
       "      <td>None</td>\n",
       "      <td>776</td>\n",
       "      <td>None</td>\n",
       "      <td>None</td>\n",
       "    </tr>\n",
       "    <tr>\n",
       "      <th>16882</th>\n",
       "      <td>POLYGON ((-173.77878 -15.94272, -173.77783 -15...</td>\n",
       "      <td>0.023450</td>\n",
       "      <td>Sand</td>\n",
       "      <td>0</td>\n",
       "      <td>8448</td>\n",
       "      <td>Tongan Exclusive Economic Zone</td>\n",
       "      <td>8674</td>\n",
       "      <td>200NM</td>\n",
       "      <td>8674</td>\n",
       "      <td>Tonga</td>\n",
       "      <td>...</td>\n",
       "      <td>666052</td>\n",
       "      <td>TON</td>\n",
       "      <td>None</td>\n",
       "      <td>None</td>\n",
       "      <td>776</td>\n",
       "      <td>None</td>\n",
       "      <td>None</td>\n",
       "      <td>776</td>\n",
       "      <td>None</td>\n",
       "      <td>None</td>\n",
       "    </tr>\n",
       "    <tr>\n",
       "      <th>16883</th>\n",
       "      <td>POLYGON ((-173.78007 -15.93441, -173.77788 -15...</td>\n",
       "      <td>0.026029</td>\n",
       "      <td>Sand</td>\n",
       "      <td>0</td>\n",
       "      <td>8448</td>\n",
       "      <td>Tongan Exclusive Economic Zone</td>\n",
       "      <td>8674</td>\n",
       "      <td>200NM</td>\n",
       "      <td>8674</td>\n",
       "      <td>Tonga</td>\n",
       "      <td>...</td>\n",
       "      <td>666052</td>\n",
       "      <td>TON</td>\n",
       "      <td>None</td>\n",
       "      <td>None</td>\n",
       "      <td>776</td>\n",
       "      <td>None</td>\n",
       "      <td>None</td>\n",
       "      <td>776</td>\n",
       "      <td>None</td>\n",
       "      <td>None</td>\n",
       "    </tr>\n",
       "    <tr>\n",
       "      <th>16886</th>\n",
       "      <td>MULTIPOLYGON (((-173.77155 -15.94213, -173.766...</td>\n",
       "      <td>0.084209</td>\n",
       "      <td>Rock</td>\n",
       "      <td>0</td>\n",
       "      <td>8448</td>\n",
       "      <td>Tongan Exclusive Economic Zone</td>\n",
       "      <td>8674</td>\n",
       "      <td>200NM</td>\n",
       "      <td>8674</td>\n",
       "      <td>Tonga</td>\n",
       "      <td>...</td>\n",
       "      <td>666052</td>\n",
       "      <td>TON</td>\n",
       "      <td>None</td>\n",
       "      <td>None</td>\n",
       "      <td>776</td>\n",
       "      <td>None</td>\n",
       "      <td>None</td>\n",
       "      <td>776</td>\n",
       "      <td>None</td>\n",
       "      <td>None</td>\n",
       "    </tr>\n",
       "    <tr>\n",
       "      <th>16887</th>\n",
       "      <td>POLYGON ((-173.75663 -15.92875, -173.75466 -15...</td>\n",
       "      <td>0.315681</td>\n",
       "      <td>Sand</td>\n",
       "      <td>0</td>\n",
       "      <td>8448</td>\n",
       "      <td>Tongan Exclusive Economic Zone</td>\n",
       "      <td>8674</td>\n",
       "      <td>200NM</td>\n",
       "      <td>8674</td>\n",
       "      <td>Tonga</td>\n",
       "      <td>...</td>\n",
       "      <td>666052</td>\n",
       "      <td>TON</td>\n",
       "      <td>None</td>\n",
       "      <td>None</td>\n",
       "      <td>776</td>\n",
       "      <td>None</td>\n",
       "      <td>None</td>\n",
       "      <td>776</td>\n",
       "      <td>None</td>\n",
       "      <td>None</td>\n",
       "    </tr>\n",
       "  </tbody>\n",
       "</table>\n",
       "<p>6013 rows × 35 columns</p>\n",
       "</div>"
      ],
      "text/plain": [
       "                                                geometry  area_sqkm  \\\n",
       "8      POLYGON ((-175.29656 -21.06398, -175.29656 -21...   0.001764   \n",
       "9      POLYGON ((-175.32874 -21.06503, -175.32874 -21...   0.000009   \n",
       "178    POLYGON ((-175.33087 -21.06634, -175.33087 -21...   0.000085   \n",
       "179    MULTIPOLYGON (((-175.32653 -21.06046, -175.326...   0.047938   \n",
       "182    POLYGON ((-175.29289 -21.05943, -175.29140 -21...   0.094319   \n",
       "...                                                  ...        ...   \n",
       "16881  POLYGON ((-173.75286 -15.85832, -173.74999 -15...   0.065973   \n",
       "16882  POLYGON ((-173.77878 -15.94272, -173.77783 -15...   0.023450   \n",
       "16883  POLYGON ((-173.78007 -15.93441, -173.77788 -15...   0.026029   \n",
       "16886  MULTIPOLYGON (((-173.77155 -15.94213, -173.766...   0.084209   \n",
       "16887  POLYGON ((-173.75663 -15.92875, -173.75466 -15...   0.315681   \n",
       "\n",
       "        class_name  index_right  mrgid                         geoname  \\\n",
       "8             Rock            0   8448  Tongan Exclusive Economic Zone   \n",
       "9         Seagrass            0   8448  Tongan Exclusive Economic Zone   \n",
       "178    Coral/Algae            0   8448  Tongan Exclusive Economic Zone   \n",
       "179           Rock            0   8448  Tongan Exclusive Economic Zone   \n",
       "182         Rubble            0   8448  Tongan Exclusive Economic Zone   \n",
       "...            ...          ...    ...                             ...   \n",
       "16881  Coral/Algae            0   8448  Tongan Exclusive Economic Zone   \n",
       "16882         Sand            0   8448  Tongan Exclusive Economic Zone   \n",
       "16883         Sand            0   8448  Tongan Exclusive Economic Zone   \n",
       "16886         Rock            0   8448  Tongan Exclusive Economic Zone   \n",
       "16887         Sand            0   8448  Tongan Exclusive Economic Zone   \n",
       "\n",
       "       mrgid_ter1 pol_type  mrgid_sov1 territory1  ... area_km2 iso_sov1  \\\n",
       "8            8674    200NM        8674      Tonga  ...   666052      TON   \n",
       "9            8674    200NM        8674      Tonga  ...   666052      TON   \n",
       "178          8674    200NM        8674      Tonga  ...   666052      TON   \n",
       "179          8674    200NM        8674      Tonga  ...   666052      TON   \n",
       "182          8674    200NM        8674      Tonga  ...   666052      TON   \n",
       "...           ...      ...         ...        ...  ...      ...      ...   \n",
       "16881        8674    200NM        8674      Tonga  ...   666052      TON   \n",
       "16882        8674    200NM        8674      Tonga  ...   666052      TON   \n",
       "16883        8674    200NM        8674      Tonga  ...   666052      TON   \n",
       "16886        8674    200NM        8674      Tonga  ...   666052      TON   \n",
       "16887        8674    200NM        8674      Tonga  ...   666052      TON   \n",
       "\n",
       "       iso_sov2  iso_sov3 un_sov1 un_sov2 un_sov3  un_ter1  un_ter2 un_ter3  \n",
       "8          None      None     776    None    None      776     None    None  \n",
       "9          None      None     776    None    None      776     None    None  \n",
       "178        None      None     776    None    None      776     None    None  \n",
       "179        None      None     776    None    None      776     None    None  \n",
       "182        None      None     776    None    None      776     None    None  \n",
       "...         ...       ...     ...     ...     ...      ...      ...     ...  \n",
       "16881      None      None     776    None    None      776     None    None  \n",
       "16882      None      None     776    None    None      776     None    None  \n",
       "16883      None      None     776    None    None      776     None    None  \n",
       "16886      None      None     776    None    None      776     None    None  \n",
       "16887      None      None     776    None    None      776     None    None  \n",
       "\n",
       "[6013 rows x 35 columns]"
      ]
     },
     "execution_count": 28,
     "metadata": {},
     "output_type": "execute_result"
    }
   ],
   "source": [
    "benthic_tonga_eez"
   ]
  },
  {
   "cell_type": "code",
   "execution_count": 29,
   "metadata": {},
   "outputs": [
    {
     "data": {
      "text/html": [
       "<div>\n",
       "<style scoped>\n",
       "    .dataframe tbody tr th:only-of-type {\n",
       "        vertical-align: middle;\n",
       "    }\n",
       "\n",
       "    .dataframe tbody tr th {\n",
       "        vertical-align: top;\n",
       "    }\n",
       "\n",
       "    .dataframe thead th {\n",
       "        text-align: right;\n",
       "    }\n",
       "</style>\n",
       "<table border=\"1\" class=\"dataframe\">\n",
       "  <thead>\n",
       "    <tr style=\"text-align: right;\">\n",
       "      <th></th>\n",
       "      <th>geometry</th>\n",
       "      <th>area_sqkm</th>\n",
       "      <th>class_name</th>\n",
       "      <th>index_right</th>\n",
       "      <th>mrgid</th>\n",
       "      <th>geoname</th>\n",
       "      <th>mrgid_ter1</th>\n",
       "      <th>pol_type</th>\n",
       "      <th>mrgid_sov1</th>\n",
       "      <th>territory1</th>\n",
       "      <th>...</th>\n",
       "      <th>area_km2</th>\n",
       "      <th>iso_sov1</th>\n",
       "      <th>iso_sov2</th>\n",
       "      <th>iso_sov3</th>\n",
       "      <th>un_sov1</th>\n",
       "      <th>un_sov2</th>\n",
       "      <th>un_sov3</th>\n",
       "      <th>un_ter1</th>\n",
       "      <th>un_ter2</th>\n",
       "      <th>un_ter3</th>\n",
       "    </tr>\n",
       "  </thead>\n",
       "  <tbody>\n",
       "    <tr>\n",
       "      <th>117</th>\n",
       "      <td>POLYGON ((-175.60230 -15.60937, -175.60230 -15...</td>\n",
       "      <td>0.000192</td>\n",
       "      <td>Reef Slope</td>\n",
       "      <td>0</td>\n",
       "      <td>8448</td>\n",
       "      <td>Tongan Exclusive Economic Zone</td>\n",
       "      <td>8674</td>\n",
       "      <td>200NM</td>\n",
       "      <td>8674</td>\n",
       "      <td>Tonga</td>\n",
       "      <td>...</td>\n",
       "      <td>666052</td>\n",
       "      <td>TON</td>\n",
       "      <td>None</td>\n",
       "      <td>None</td>\n",
       "      <td>776</td>\n",
       "      <td>None</td>\n",
       "      <td>None</td>\n",
       "      <td>776</td>\n",
       "      <td>None</td>\n",
       "      <td>None</td>\n",
       "    </tr>\n",
       "    <tr>\n",
       "      <th>118</th>\n",
       "      <td>POLYGON ((-175.65512 -15.57420, -175.65512 -15...</td>\n",
       "      <td>0.000096</td>\n",
       "      <td>Plateau</td>\n",
       "      <td>0</td>\n",
       "      <td>8448</td>\n",
       "      <td>Tongan Exclusive Economic Zone</td>\n",
       "      <td>8674</td>\n",
       "      <td>200NM</td>\n",
       "      <td>8674</td>\n",
       "      <td>Tonga</td>\n",
       "      <td>...</td>\n",
       "      <td>666052</td>\n",
       "      <td>TON</td>\n",
       "      <td>None</td>\n",
       "      <td>None</td>\n",
       "      <td>776</td>\n",
       "      <td>None</td>\n",
       "      <td>None</td>\n",
       "      <td>776</td>\n",
       "      <td>None</td>\n",
       "      <td>None</td>\n",
       "    </tr>\n",
       "    <tr>\n",
       "      <th>119</th>\n",
       "      <td>POLYGON ((-175.61559 -15.57420, -175.61559 -15...</td>\n",
       "      <td>0.000096</td>\n",
       "      <td>Reef Slope</td>\n",
       "      <td>0</td>\n",
       "      <td>8448</td>\n",
       "      <td>Tongan Exclusive Economic Zone</td>\n",
       "      <td>8674</td>\n",
       "      <td>200NM</td>\n",
       "      <td>8674</td>\n",
       "      <td>Tonga</td>\n",
       "      <td>...</td>\n",
       "      <td>666052</td>\n",
       "      <td>TON</td>\n",
       "      <td>None</td>\n",
       "      <td>None</td>\n",
       "      <td>776</td>\n",
       "      <td>None</td>\n",
       "      <td>None</td>\n",
       "      <td>776</td>\n",
       "      <td>None</td>\n",
       "      <td>None</td>\n",
       "    </tr>\n",
       "    <tr>\n",
       "      <th>120</th>\n",
       "      <td>POLYGON ((-175.69857 -15.63331, -175.69857 -15...</td>\n",
       "      <td>0.000048</td>\n",
       "      <td>Reef Slope</td>\n",
       "      <td>0</td>\n",
       "      <td>8448</td>\n",
       "      <td>Tongan Exclusive Economic Zone</td>\n",
       "      <td>8674</td>\n",
       "      <td>200NM</td>\n",
       "      <td>8674</td>\n",
       "      <td>Tonga</td>\n",
       "      <td>...</td>\n",
       "      <td>666052</td>\n",
       "      <td>TON</td>\n",
       "      <td>None</td>\n",
       "      <td>None</td>\n",
       "      <td>776</td>\n",
       "      <td>None</td>\n",
       "      <td>None</td>\n",
       "      <td>776</td>\n",
       "      <td>None</td>\n",
       "      <td>None</td>\n",
       "    </tr>\n",
       "    <tr>\n",
       "      <th>121</th>\n",
       "      <td>POLYGON ((-175.60775 -15.71162, -175.60775 -15...</td>\n",
       "      <td>0.000024</td>\n",
       "      <td>Reef Slope</td>\n",
       "      <td>0</td>\n",
       "      <td>8448</td>\n",
       "      <td>Tongan Exclusive Economic Zone</td>\n",
       "      <td>8674</td>\n",
       "      <td>200NM</td>\n",
       "      <td>8674</td>\n",
       "      <td>Tonga</td>\n",
       "      <td>...</td>\n",
       "      <td>666052</td>\n",
       "      <td>TON</td>\n",
       "      <td>None</td>\n",
       "      <td>None</td>\n",
       "      <td>776</td>\n",
       "      <td>None</td>\n",
       "      <td>None</td>\n",
       "      <td>776</td>\n",
       "      <td>None</td>\n",
       "      <td>None</td>\n",
       "    </tr>\n",
       "    <tr>\n",
       "      <th>...</th>\n",
       "      <td>...</td>\n",
       "      <td>...</td>\n",
       "      <td>...</td>\n",
       "      <td>...</td>\n",
       "      <td>...</td>\n",
       "      <td>...</td>\n",
       "      <td>...</td>\n",
       "      <td>...</td>\n",
       "      <td>...</td>\n",
       "      <td>...</td>\n",
       "      <td>...</td>\n",
       "      <td>...</td>\n",
       "      <td>...</td>\n",
       "      <td>...</td>\n",
       "      <td>...</td>\n",
       "      <td>...</td>\n",
       "      <td>...</td>\n",
       "      <td>...</td>\n",
       "      <td>...</td>\n",
       "      <td>...</td>\n",
       "      <td>...</td>\n",
       "    </tr>\n",
       "    <tr>\n",
       "      <th>16241</th>\n",
       "      <td>MULTIPOLYGON (((-173.75277 -15.83739, -173.749...</td>\n",
       "      <td>0.641733</td>\n",
       "      <td>Terrestrial Reef Flat</td>\n",
       "      <td>0</td>\n",
       "      <td>8448</td>\n",
       "      <td>Tongan Exclusive Economic Zone</td>\n",
       "      <td>8674</td>\n",
       "      <td>200NM</td>\n",
       "      <td>8674</td>\n",
       "      <td>Tonga</td>\n",
       "      <td>...</td>\n",
       "      <td>666052</td>\n",
       "      <td>TON</td>\n",
       "      <td>None</td>\n",
       "      <td>None</td>\n",
       "      <td>776</td>\n",
       "      <td>None</td>\n",
       "      <td>None</td>\n",
       "      <td>776</td>\n",
       "      <td>None</td>\n",
       "      <td>None</td>\n",
       "    </tr>\n",
       "    <tr>\n",
       "      <th>16242</th>\n",
       "      <td>POLYGON ((-173.76545 -15.96432, -173.76472 -15...</td>\n",
       "      <td>0.045133</td>\n",
       "      <td>Terrestrial Reef Flat</td>\n",
       "      <td>0</td>\n",
       "      <td>8448</td>\n",
       "      <td>Tongan Exclusive Economic Zone</td>\n",
       "      <td>8674</td>\n",
       "      <td>200NM</td>\n",
       "      <td>8674</td>\n",
       "      <td>Tonga</td>\n",
       "      <td>...</td>\n",
       "      <td>666052</td>\n",
       "      <td>TON</td>\n",
       "      <td>None</td>\n",
       "      <td>None</td>\n",
       "      <td>776</td>\n",
       "      <td>None</td>\n",
       "      <td>None</td>\n",
       "      <td>776</td>\n",
       "      <td>None</td>\n",
       "      <td>None</td>\n",
       "    </tr>\n",
       "    <tr>\n",
       "      <th>16243</th>\n",
       "      <td>POLYGON ((-173.77191 -15.94191, -173.76629 -15...</td>\n",
       "      <td>0.031379</td>\n",
       "      <td>Terrestrial Reef Flat</td>\n",
       "      <td>0</td>\n",
       "      <td>8448</td>\n",
       "      <td>Tongan Exclusive Economic Zone</td>\n",
       "      <td>8674</td>\n",
       "      <td>200NM</td>\n",
       "      <td>8674</td>\n",
       "      <td>Tonga</td>\n",
       "      <td>...</td>\n",
       "      <td>666052</td>\n",
       "      <td>TON</td>\n",
       "      <td>None</td>\n",
       "      <td>None</td>\n",
       "      <td>776</td>\n",
       "      <td>None</td>\n",
       "      <td>None</td>\n",
       "      <td>776</td>\n",
       "      <td>None</td>\n",
       "      <td>None</td>\n",
       "    </tr>\n",
       "    <tr>\n",
       "      <th>16246</th>\n",
       "      <td>POLYGON ((-173.77235 -15.94326, -173.77173 -15...</td>\n",
       "      <td>0.035124</td>\n",
       "      <td>Inner Reef Flat</td>\n",
       "      <td>0</td>\n",
       "      <td>8448</td>\n",
       "      <td>Tongan Exclusive Economic Zone</td>\n",
       "      <td>8674</td>\n",
       "      <td>200NM</td>\n",
       "      <td>8674</td>\n",
       "      <td>Tonga</td>\n",
       "      <td>...</td>\n",
       "      <td>666052</td>\n",
       "      <td>TON</td>\n",
       "      <td>None</td>\n",
       "      <td>None</td>\n",
       "      <td>776</td>\n",
       "      <td>None</td>\n",
       "      <td>None</td>\n",
       "      <td>776</td>\n",
       "      <td>None</td>\n",
       "      <td>None</td>\n",
       "    </tr>\n",
       "    <tr>\n",
       "      <th>16247</th>\n",
       "      <td>POLYGON ((-173.76409 -15.92641, -173.76095 -15...</td>\n",
       "      <td>4.955769</td>\n",
       "      <td>Terrestrial Reef Flat</td>\n",
       "      <td>0</td>\n",
       "      <td>8448</td>\n",
       "      <td>Tongan Exclusive Economic Zone</td>\n",
       "      <td>8674</td>\n",
       "      <td>200NM</td>\n",
       "      <td>8674</td>\n",
       "      <td>Tonga</td>\n",
       "      <td>...</td>\n",
       "      <td>666052</td>\n",
       "      <td>TON</td>\n",
       "      <td>None</td>\n",
       "      <td>None</td>\n",
       "      <td>776</td>\n",
       "      <td>None</td>\n",
       "      <td>None</td>\n",
       "      <td>776</td>\n",
       "      <td>None</td>\n",
       "      <td>None</td>\n",
       "    </tr>\n",
       "  </tbody>\n",
       "</table>\n",
       "<p>6175 rows × 35 columns</p>\n",
       "</div>"
      ],
      "text/plain": [
       "                                                geometry  area_sqkm  \\\n",
       "117    POLYGON ((-175.60230 -15.60937, -175.60230 -15...   0.000192   \n",
       "118    POLYGON ((-175.65512 -15.57420, -175.65512 -15...   0.000096   \n",
       "119    POLYGON ((-175.61559 -15.57420, -175.61559 -15...   0.000096   \n",
       "120    POLYGON ((-175.69857 -15.63331, -175.69857 -15...   0.000048   \n",
       "121    POLYGON ((-175.60775 -15.71162, -175.60775 -15...   0.000024   \n",
       "...                                                  ...        ...   \n",
       "16241  MULTIPOLYGON (((-173.75277 -15.83739, -173.749...   0.641733   \n",
       "16242  POLYGON ((-173.76545 -15.96432, -173.76472 -15...   0.045133   \n",
       "16243  POLYGON ((-173.77191 -15.94191, -173.76629 -15...   0.031379   \n",
       "16246  POLYGON ((-173.77235 -15.94326, -173.77173 -15...   0.035124   \n",
       "16247  POLYGON ((-173.76409 -15.92641, -173.76095 -15...   4.955769   \n",
       "\n",
       "                  class_name  index_right  mrgid  \\\n",
       "117               Reef Slope            0   8448   \n",
       "118                  Plateau            0   8448   \n",
       "119               Reef Slope            0   8448   \n",
       "120               Reef Slope            0   8448   \n",
       "121               Reef Slope            0   8448   \n",
       "...                      ...          ...    ...   \n",
       "16241  Terrestrial Reef Flat            0   8448   \n",
       "16242  Terrestrial Reef Flat            0   8448   \n",
       "16243  Terrestrial Reef Flat            0   8448   \n",
       "16246        Inner Reef Flat            0   8448   \n",
       "16247  Terrestrial Reef Flat            0   8448   \n",
       "\n",
       "                              geoname  mrgid_ter1 pol_type  mrgid_sov1  \\\n",
       "117    Tongan Exclusive Economic Zone        8674    200NM        8674   \n",
       "118    Tongan Exclusive Economic Zone        8674    200NM        8674   \n",
       "119    Tongan Exclusive Economic Zone        8674    200NM        8674   \n",
       "120    Tongan Exclusive Economic Zone        8674    200NM        8674   \n",
       "121    Tongan Exclusive Economic Zone        8674    200NM        8674   \n",
       "...                               ...         ...      ...         ...   \n",
       "16241  Tongan Exclusive Economic Zone        8674    200NM        8674   \n",
       "16242  Tongan Exclusive Economic Zone        8674    200NM        8674   \n",
       "16243  Tongan Exclusive Economic Zone        8674    200NM        8674   \n",
       "16246  Tongan Exclusive Economic Zone        8674    200NM        8674   \n",
       "16247  Tongan Exclusive Economic Zone        8674    200NM        8674   \n",
       "\n",
       "      territory1  ... area_km2 iso_sov1  iso_sov2  iso_sov3 un_sov1 un_sov2  \\\n",
       "117        Tonga  ...   666052      TON      None      None     776    None   \n",
       "118        Tonga  ...   666052      TON      None      None     776    None   \n",
       "119        Tonga  ...   666052      TON      None      None     776    None   \n",
       "120        Tonga  ...   666052      TON      None      None     776    None   \n",
       "121        Tonga  ...   666052      TON      None      None     776    None   \n",
       "...          ...  ...      ...      ...       ...       ...     ...     ...   \n",
       "16241      Tonga  ...   666052      TON      None      None     776    None   \n",
       "16242      Tonga  ...   666052      TON      None      None     776    None   \n",
       "16243      Tonga  ...   666052      TON      None      None     776    None   \n",
       "16246      Tonga  ...   666052      TON      None      None     776    None   \n",
       "16247      Tonga  ...   666052      TON      None      None     776    None   \n",
       "\n",
       "      un_sov3  un_ter1  un_ter2 un_ter3  \n",
       "117      None      776     None    None  \n",
       "118      None      776     None    None  \n",
       "119      None      776     None    None  \n",
       "120      None      776     None    None  \n",
       "121      None      776     None    None  \n",
       "...       ...      ...      ...     ...  \n",
       "16241    None      776     None    None  \n",
       "16242    None      776     None    None  \n",
       "16243    None      776     None    None  \n",
       "16246    None      776     None    None  \n",
       "16247    None      776     None    None  \n",
       "\n",
       "[6175 rows x 35 columns]"
      ]
     },
     "execution_count": 29,
     "metadata": {},
     "output_type": "execute_result"
    }
   ],
   "source": [
    "geomorphic_tonga_eez"
   ]
  },
  {
   "cell_type": "markdown",
   "metadata": {},
   "source": [
    "# 3. Reprojection of Benthic and Geomorphic Layers\n",
    "\n",
    "We now have the benthic and geomorphic layers for Tonga, but before we can do any further analyses, we have to ensure that we have the right map projection. More information on choosing the correct map projections can be found [here](https://learn.arcgis.com/en/projects/choose-the-right-projection/). To get an accurate estimate of percent distribution, it is imperative to reproject the layers to an equal area projection. The ACA has a default projection of EPSG:4326. Within our `reproject` function below, we've chosen the Mollweide projection (ESRI:54009) which has a suitable extent for the world."
   ]
  },
  {
   "cell_type": "markdown",
   "metadata": {},
   "source": [
    "A quick overview of the `reproject` function is to set the original CRS before projecting, which in this case for the ACA is EPSG:4326, and then we reproject to our desired map projection and simultaneously calculate the area for each feature in km<sup>2</sup>. This new area is also added as a new column in our geodataframe."
   ]
  },
  {
   "cell_type": "code",
   "execution_count": 62,
   "metadata": {},
   "outputs": [],
   "source": [
    "def reproject(eez_geodataframe, projection_identifier):\n",
    "    '''Reprojects a geodataframe to the user provided projection'''\n",
    "    # e.g. Mollweide would be 'ESRI:54009'\n",
    "    # set original CRS before reprojecting, in this case, the data obtained \n",
    "    # from the Allen Coral Atlas is in the EPSG:4326 format\n",
    "    eez_geodataframe.crs = 'EPSG:4326'\n",
    "    \n",
    "    # adds a column, 'reprojected_area' that converts the \n",
    "    # current area to user provided projection\n",
    "    eez_geodataframe['reprojected_area'] = eez_geodataframe['geometry'].to_crs(projection_identifier).map(lambda p: p.area / 10**6)\n",
    "    \n",
    "    return eez_geodataframe"
   ]
  },
  {
   "cell_type": "code",
   "execution_count": 31,
   "metadata": {},
   "outputs": [],
   "source": [
    "reprojected_tonga_benthic = reproject(benthic_tonga_eez, 'ESRI:54009')"
   ]
  },
  {
   "cell_type": "code",
   "execution_count": 32,
   "metadata": {},
   "outputs": [],
   "source": [
    "reprojected_tonga_geomorphic = reproject(geomorphic_tonga_eez, 'ESRI:54009')"
   ]
  },
  {
   "cell_type": "markdown",
   "metadata": {},
   "source": [
    "# 4. Calculating the Percent Distribution of Benthic and Geomorphic Classes\n",
    "\n",
    "With our reprojected benthic and geomorphic layers, we can now calculate the percent distribution by benthic/geomorphic subtypes.\n",
    "\n",
    "In the `calculate_percent_distribution` function, we first calculate the total area for the classes and then calculate the subtotals in a new geodataframe."
   ]
  },
  {
   "cell_type": "code",
   "execution_count": 38,
   "metadata": {},
   "outputs": [],
   "source": [
    "def calculate_percent_distribution(eez_geodataframe): \n",
    "    # generates a new dataframe containing the subtotal \n",
    "    # of the area of benthic/geomorphic classes \n",
    "    eez_geodataframe_subtotals = eez_geodataframe.groupby('class_name')['reprojected_area'].sum().to_frame()\n",
    "    \n",
    "    # adds a new column that has the percent distribution\n",
    "    # for each class\n",
    "    eez_geodataframe_subtotals['percent_distribution'] = eez_geodataframe_subtotals['reprojected_area'].map(lambda p: p/sum(eez_geodataframe_subtotals['reprojected_area']) * 100)\n",
    "\n",
    "    return eez_geodataframe_subtotals"
   ]
  },
  {
   "cell_type": "markdown",
   "metadata": {},
   "source": [
    "### Tonga Benthic Class Percent Distribution\n",
    "Let's now calculate the benthic percent distribution for Tonga."
   ]
  },
  {
   "cell_type": "code",
   "execution_count": 39,
   "metadata": {
    "scrolled": true
   },
   "outputs": [],
   "source": [
    "benthic_tonga = calculate_percent_distribution(reprojected_tonga_benthic)"
   ]
  },
  {
   "cell_type": "markdown",
   "metadata": {},
   "source": [
    "Now, if we take a look at our newly generated dataframe, we can see the benthic composition of the EEZ of Tonga."
   ]
  },
  {
   "cell_type": "code",
   "execution_count": 41,
   "metadata": {
    "scrolled": true
   },
   "outputs": [
    {
     "data": {
      "text/html": [
       "<div>\n",
       "<style scoped>\n",
       "    .dataframe tbody tr th:only-of-type {\n",
       "        vertical-align: middle;\n",
       "    }\n",
       "\n",
       "    .dataframe tbody tr th {\n",
       "        vertical-align: top;\n",
       "    }\n",
       "\n",
       "    .dataframe thead th {\n",
       "        text-align: right;\n",
       "    }\n",
       "</style>\n",
       "<table border=\"1\" class=\"dataframe\">\n",
       "  <thead>\n",
       "    <tr style=\"text-align: right;\">\n",
       "      <th></th>\n",
       "      <th>reprojected_area</th>\n",
       "      <th>percent_distribution</th>\n",
       "    </tr>\n",
       "    <tr>\n",
       "      <th>class_name</th>\n",
       "      <th></th>\n",
       "      <th></th>\n",
       "    </tr>\n",
       "  </thead>\n",
       "  <tbody>\n",
       "    <tr>\n",
       "      <th>Coral/Algae</th>\n",
       "      <td>490.601908</td>\n",
       "      <td>54.055603</td>\n",
       "    </tr>\n",
       "    <tr>\n",
       "      <th>Microalgal Mats</th>\n",
       "      <td>63.815953</td>\n",
       "      <td>7.031383</td>\n",
       "    </tr>\n",
       "    <tr>\n",
       "      <th>Rock</th>\n",
       "      <td>109.304519</td>\n",
       "      <td>12.043414</td>\n",
       "    </tr>\n",
       "    <tr>\n",
       "      <th>Rubble</th>\n",
       "      <td>101.944018</td>\n",
       "      <td>11.232417</td>\n",
       "    </tr>\n",
       "    <tr>\n",
       "      <th>Sand</th>\n",
       "      <td>113.354807</td>\n",
       "      <td>12.489683</td>\n",
       "    </tr>\n",
       "    <tr>\n",
       "      <th>Seagrass</th>\n",
       "      <td>28.566311</td>\n",
       "      <td>3.147499</td>\n",
       "    </tr>\n",
       "  </tbody>\n",
       "</table>\n",
       "</div>"
      ],
      "text/plain": [
       "                 reprojected_area  percent_distribution\n",
       "class_name                                             \n",
       "Coral/Algae            490.601908             54.055603\n",
       "Microalgal Mats         63.815953              7.031383\n",
       "Rock                   109.304519             12.043414\n",
       "Rubble                 101.944018             11.232417\n",
       "Sand                   113.354807             12.489683\n",
       "Seagrass                28.566311              3.147499"
      ]
     },
     "execution_count": 41,
     "metadata": {},
     "output_type": "execute_result"
    }
   ],
   "source": [
    "benthic_tonga"
   ]
  },
  {
   "cell_type": "markdown",
   "metadata": {},
   "source": [
    "### Tonga Geomorphic Class Percent Distribution\n",
    "And we can do the same for the geomorphic class."
   ]
  },
  {
   "cell_type": "code",
   "execution_count": 42,
   "metadata": {},
   "outputs": [],
   "source": [
    "geomorphic_tonga = calculate_percent_distribution(reprojected_tonga_geomorphic)"
   ]
  },
  {
   "cell_type": "code",
   "execution_count": 44,
   "metadata": {},
   "outputs": [
    {
     "data": {
      "text/html": [
       "<div>\n",
       "<style scoped>\n",
       "    .dataframe tbody tr th:only-of-type {\n",
       "        vertical-align: middle;\n",
       "    }\n",
       "\n",
       "    .dataframe tbody tr th {\n",
       "        vertical-align: top;\n",
       "    }\n",
       "\n",
       "    .dataframe thead th {\n",
       "        text-align: right;\n",
       "    }\n",
       "</style>\n",
       "<table border=\"1\" class=\"dataframe\">\n",
       "  <thead>\n",
       "    <tr style=\"text-align: right;\">\n",
       "      <th></th>\n",
       "      <th>reprojected_area</th>\n",
       "      <th>percent_distribution</th>\n",
       "    </tr>\n",
       "    <tr>\n",
       "      <th>class_name</th>\n",
       "      <th></th>\n",
       "      <th></th>\n",
       "    </tr>\n",
       "  </thead>\n",
       "  <tbody>\n",
       "    <tr>\n",
       "      <th>Back Reef Slope</th>\n",
       "      <td>95.547478</td>\n",
       "      <td>7.786200</td>\n",
       "    </tr>\n",
       "    <tr>\n",
       "      <th>Deep Lagoon</th>\n",
       "      <td>142.132516</td>\n",
       "      <td>11.582432</td>\n",
       "    </tr>\n",
       "    <tr>\n",
       "      <th>Inner Reef Flat</th>\n",
       "      <td>117.762508</td>\n",
       "      <td>9.596511</td>\n",
       "    </tr>\n",
       "    <tr>\n",
       "      <th>Outer Reef Flat</th>\n",
       "      <td>138.737408</td>\n",
       "      <td>11.305764</td>\n",
       "    </tr>\n",
       "    <tr>\n",
       "      <th>Plateau</th>\n",
       "      <td>107.089075</td>\n",
       "      <td>8.726729</td>\n",
       "    </tr>\n",
       "    <tr>\n",
       "      <th>Reef Crest</th>\n",
       "      <td>39.778539</td>\n",
       "      <td>3.241568</td>\n",
       "    </tr>\n",
       "    <tr>\n",
       "      <th>Reef Slope</th>\n",
       "      <td>311.149062</td>\n",
       "      <td>25.355654</td>\n",
       "    </tr>\n",
       "    <tr>\n",
       "      <th>Shallow Lagoon</th>\n",
       "      <td>87.278635</td>\n",
       "      <td>7.112369</td>\n",
       "    </tr>\n",
       "    <tr>\n",
       "      <th>Sheltered Reef Slope</th>\n",
       "      <td>67.412934</td>\n",
       "      <td>5.493505</td>\n",
       "    </tr>\n",
       "    <tr>\n",
       "      <th>Terrestrial Reef Flat</th>\n",
       "      <td>120.250608</td>\n",
       "      <td>9.799267</td>\n",
       "    </tr>\n",
       "  </tbody>\n",
       "</table>\n",
       "</div>"
      ],
      "text/plain": [
       "                       reprojected_area  percent_distribution\n",
       "class_name                                                   \n",
       "Back Reef Slope               95.547478              7.786200\n",
       "Deep Lagoon                  142.132516             11.582432\n",
       "Inner Reef Flat              117.762508              9.596511\n",
       "Outer Reef Flat              138.737408             11.305764\n",
       "Plateau                      107.089075              8.726729\n",
       "Reef Crest                    39.778539              3.241568\n",
       "Reef Slope                   311.149062             25.355654\n",
       "Shallow Lagoon                87.278635              7.112369\n",
       "Sheltered Reef Slope          67.412934              5.493505\n",
       "Terrestrial Reef Flat        120.250608              9.799267"
      ]
     },
     "execution_count": 44,
     "metadata": {},
     "output_type": "execute_result"
    }
   ],
   "source": [
    "geomorphic_tonga"
   ]
  },
  {
   "cell_type": "markdown",
   "metadata": {},
   "source": [
    "# 5. Visualization: Reproducing Donut Charts from the Web Platform\n",
    "Using the `matplotlib` library and this [tutorial](https://towardsdatascience.com/donut-plot-with-matplotlib-python-be3451f22704), here's how we can reproduce the graph from the web platform. In addition, the graphs can be easily customized as needed."
   ]
  },
  {
   "cell_type": "markdown",
   "metadata": {},
   "source": [
    "### Tonga Benthic Class Distribution"
   ]
  },
  {
   "cell_type": "code",
   "execution_count": 115,
   "metadata": {},
   "outputs": [],
   "source": [
    "def plot_benthic(benthic_layer_geodataframe, eez_name):\n",
    "    # Donut chart\n",
    "    labels = list(benthic_layer_geodataframe.index)\n",
    "    color_dict = {'Coral/Algae': '#ff6157',\n",
    "                  'Microalgal Mats': '#9bcc4f',\n",
    "                  'Rock': '#b19c3a',\n",
    "                  'Rubble': '#e0d05e',\n",
    "                  'Sand': '#ffffbe',\n",
    "                  'Seagrass': '#668438'}\n",
    "    colors = []\n",
    "    for class_name in list(benthic_layer_geodataframe.index):\n",
    "        if color_dict[class_name]:\n",
    "            colors.append(color_dict[class_name])\n",
    "            \n",
    "    sizes = list(benthic_layer_geodataframe['percent_distribution'])\n",
    "\n",
    "    fig1, ax1 = plt.subplots()\n",
    "    ax1.pie(sizes, colors = colors, labels=labels, autopct='%1.1f%%', startangle=90)\n",
    "\n",
    "    # Draw circle\n",
    "    centre_circle = plt.Circle((0,0),0.70,fc='white')\n",
    "    fig = plt.gcf()\n",
    "    fig.gca().add_artist(centre_circle)\n",
    "\n",
    "    # Equal aspect ratio ensures that pie is drawn as a circle\n",
    "    ax1.axis('equal')  \n",
    "    plt.tight_layout()\n",
    "    plt.title(eez_name + ' Benthic Class Distribution', pad=20)\n",
    "    plt.show()"
   ]
  },
  {
   "cell_type": "code",
   "execution_count": 116,
   "metadata": {},
   "outputs": [
    {
     "data": {
      "image/png": "[encoded data removed]",
      "text/plain": [
       "<Figure size 432x288 with 1 Axes>"
      ]
     },
     "metadata": {},
     "output_type": "display_data"
    }
   ],
   "source": [
    "plot_benthic(benthic_tonga, 'Tonga')"
   ]
  },
  {
   "cell_type": "markdown",
   "metadata": {},
   "source": [
    "### Tonga Geomorphic Class Distribution"
   ]
  },
  {
   "cell_type": "code",
   "execution_count": 127,
   "metadata": {
    "scrolled": false
   },
   "outputs": [],
   "source": [
    "def plot_geomorphic(geomorphic_layer_geodataframe, eez_name):\n",
    "    # Donut chart\n",
    "    labels = list(geomorphic_layer_geodataframe.index)\n",
    "    colors = []\n",
    "    color_dict = {'Back Reef Slope': '#befbff',\n",
    "                 'Deep Lagoon': '#2ca2f9',\n",
    "                 'Inner Reef Flat': '#c5a7cb',\n",
    "                 'Outer Reef Flat': '#9a7fa4',\n",
    "                 'Plateau': '#cd6812',\n",
    "                 'Reef Crest': '#614272',\n",
    "                 'Reef Slope': '#288471',\n",
    "                 'Shallow Lagoon': '#77d0fc',\n",
    "                 'Sheltered Reef Slope': '#10bda6',\n",
    "                 'Terrestrial Reef Flat': '#fbdefb'}\n",
    "    for class_name in list(geomorphic_layer_geodataframe.index):\n",
    "        if color_dict[class_name]:\n",
    "            colors.append(color_dict[class_name])\n",
    "        \n",
    "    sizes = list(geomorphic_layer_geodataframe['percent_distribution'])\n",
    "    \n",
    "    fig1, ax1 = plt.subplots()\n",
    "    ax1.pie(sizes, colors = colors, labels=labels, autopct='%1.1f%%', startangle=90)\n",
    "\n",
    "    # Draw circle\n",
    "    centre_circle = plt.Circle((0,0),0.70,fc='white')\n",
    "    fig = plt.gcf()\n",
    "    fig.gca().add_artist(centre_circle)\n",
    "\n",
    "    # Equal aspect ratio ensures that pie is drawn as a circle\n",
    "    ax1.axis('equal')  \n",
    "    plt.tight_layout()\n",
    "    plt.title(eez_name + ' Geomorphic Class Distribution', pad=20)\n",
    "    plt.show()"
   ]
  },
  {
   "cell_type": "code",
   "execution_count": 128,
   "metadata": {},
   "outputs": [
    {
     "data": {
      "image/png": "[encoded data removed]",
      "text/plain": [
       "<Figure size 432x288 with 1 Axes>"
      ]
     },
     "metadata": {},
     "output_type": "display_data"
    }
   ],
   "source": [
    "plot_geomorphic(geomorphic_tonga, 'Tonga')"
   ]
  },
  {
   "cell_type": "markdown",
   "metadata": {},
   "source": [
    "# 6. Comparison between Tonga and Jamaica\n",
    "We can also easily see the diversity between Tonga and Jamaica. Briefly, we'll go through the steps as we did with Tonga for Jamaica."
   ]
  },
  {
   "cell_type": "code",
   "execution_count": 49,
   "metadata": {},
   "outputs": [
    {
     "data": {
      "text/plain": [
       "8459"
      ]
     },
     "execution_count": 49,
     "metadata": {},
     "output_type": "execute_result"
    }
   ],
   "source": [
    "mrgid_dict['Jamaica']"
   ]
  },
  {
   "cell_type": "code",
   "execution_count": 50,
   "metadata": {},
   "outputs": [],
   "source": [
    "jamaica = get_eez_map(mrgid_dict['Jamaica'])\n",
    "jamaica_bbox = make_bounding_box(jamaica)"
   ]
  },
  {
   "cell_type": "code",
   "execution_count": 51,
   "metadata": {},
   "outputs": [
    {
     "data": {
      "text/plain": [
       "(-80.83305556, 14.08333333, -74.00943069, 19.35780663)"
      ]
     },
     "execution_count": 51,
     "metadata": {},
     "output_type": "execute_result"
    }
   ],
   "source": [
    "jamaica_bbox"
   ]
  },
  {
   "cell_type": "code",
   "execution_count": 55,
   "metadata": {},
   "outputs": [],
   "source": [
    "jamaica_geomorphic = get_aca_layer(['geomorphic_data_verbose'], jamaica_bbox)"
   ]
  },
  {
   "cell_type": "code",
   "execution_count": 53,
   "metadata": {},
   "outputs": [],
   "source": [
    "jamaica_benthic = get_aca_layer(['benthic_data_verbose'], jamaica_bbox)"
   ]
  },
  {
   "cell_type": "code",
   "execution_count": 57,
   "metadata": {},
   "outputs": [],
   "source": [
    "jamaica_geomorphic_eez = eez_intersection(jamaica_geomorphic, jamaica)"
   ]
  },
  {
   "cell_type": "code",
   "execution_count": 59,
   "metadata": {},
   "outputs": [],
   "source": [
    "jamaica_benthic_eez = eez_intersection(jamaica_benthic, jamaica)"
   ]
  },
  {
   "cell_type": "code",
   "execution_count": 63,
   "metadata": {},
   "outputs": [],
   "source": [
    "reprojected_jamaica_benthic = reproject(jamaica_benthic_eez, 'ESRI:54012')"
   ]
  },
  {
   "cell_type": "code",
   "execution_count": 64,
   "metadata": {},
   "outputs": [],
   "source": [
    "reprojected_jamaica_geomorphic = reproject(jamaica_geomorphic_eez, 'ESRI:54012')"
   ]
  },
  {
   "cell_type": "code",
   "execution_count": 65,
   "metadata": {},
   "outputs": [],
   "source": [
    "benthic_jamaica = calculate_percent_distribution(reprojected_jamaica_benthic)"
   ]
  },
  {
   "cell_type": "code",
   "execution_count": 67,
   "metadata": {},
   "outputs": [],
   "source": [
    "geomorphic_jamaica = calculate_percent_distribution(reprojected_jamaica_geomorphic)"
   ]
  },
  {
   "cell_type": "markdown",
   "metadata": {},
   "source": [
    "Let's first take a look at the benthic distributions:"
   ]
  },
  {
   "cell_type": "code",
   "execution_count": 129,
   "metadata": {
    "scrolled": true
   },
   "outputs": [
    {
     "data": {
      "image/png": "[encoded data removed]",
      "text/plain": [
       "<Figure size 432x288 with 1 Axes>"
      ]
     },
     "metadata": {},
     "output_type": "display_data"
    },
    {
     "data": {
      "image/png": "[encoded data removed]",
      "text/plain": [
       "<Figure size 432x288 with 1 Axes>"
      ]
     },
     "metadata": {},
     "output_type": "display_data"
    }
   ],
   "source": [
    "plot_benthic(benthic_tonga, 'Tonga')\n",
    "plot_benthic(benthic_jamaica, 'Jamaica')"
   ]
  },
  {
   "cell_type": "markdown",
   "metadata": {},
   "source": [
    "With the charts displayed, we can appreciate the diversity between the corals in the Caribbean and South Pacific Ocean. Characteristic of the Caribbean environment, there is a high density of seagrass.\n",
    "Let's also take a look at the geomorphic distribution:"
   ]
  },
  {
   "cell_type": "code",
   "execution_count": 130,
   "metadata": {
    "scrolled": true
   },
   "outputs": [
    {
     "data": {
      "image/png": "[encoded data removed]",
      "text/plain": [
       "<Figure size 432x288 with 1 Axes>"
      ]
     },
     "metadata": {},
     "output_type": "display_data"
    },
    {
     "data": {
      "image/png": "[encoded data removed]",
      "text/plain": [
       "<Figure size 432x288 with 1 Axes>"
      ]
     },
     "metadata": {},
     "output_type": "display_data"
    }
   ],
   "source": [
    "plot_geomorphic(geomorphic_tonga, 'Tonga')\n",
    "plot_geomorphic(geomorphic_jamaica, 'Jamaica')"
   ]
  }
 ],
 "metadata": {
  "kernelspec": {
   "display_name": "internship-kernel",
   "language": "python",
   "name": "internship-kernel"
  },
  "language_info": {
   "codemirror_mode": {
    "name": "ipython",
    "version": 3
   },
   "file_extension": ".py",
   "mimetype": "text/x-python",
   "name": "python",
   "nbconvert_exporter": "python",
   "pygments_lexer": "ipython3",
   "version": "3.7.7"
  }
 },
 "nbformat": 4,
 "nbformat_minor": 2
}
