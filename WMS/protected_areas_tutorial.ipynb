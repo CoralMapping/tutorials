{
 "cells": [
  {
   "cell_type": "markdown",
   "metadata": {},
   "source": [
    "# Tutorial: Examining Protected Areas and Their Benthic and Geomorphic Distribution\n",
    "\n",
    "### Purpose\n",
    "In this tutorial, we'll walk through using the [World Database on Protected Areas](https://www.protectedplanet.net/en/thematic-areas/wdpa) (WDPA) data and the Allen Coral Atlas (ACA) to determine the amount of ACA mapped area that intersects protected areas in Tonga\n",
    "\n",
    "### Setup\n",
    "We recommend using a Conda environment with the packages listed below. Instructions to add a Conda environment to a jupyter notebook can be found [here](https://medium.com/@nrk25693/how-to-add-your-conda-environment-to-your-jupyter-notebook-in-just-4-steps-abeab8b8d084), and Conda documentation can be found [here](https://docs.conda.io/en/latest/).\n",
    " \n",
    "### Contents\n",
    " \n",
    " 1. Obtaining Data from WDPA\n",
    " 2. Visualizing Protected Areas\n",
    " 3. Determime What ACA Mapped Area Intersects Protected Areas\n",
    " 4. Visualizing Unprotected Areas\n",
    " \n",
    "### Considerations\n",
    " - for ipyLeaflet maps to display, you may need to locally run the following commands:\n",
    " \n",
    "        conda install -n your-environment-name -c conda-forge widgetsnbextension\n",
    "        conda install -n your-environment-name -c conda-forge ipywidgets\n",
    " \n",
    " "
   ]
  },
  {
   "cell_type": "markdown",
   "metadata": {},
   "source": [
    "### Packages to Import"
   ]
  },
  {
   "cell_type": "code",
   "execution_count": null,
   "metadata": {},
   "outputs": [],
   "source": [
    "from ipyleaflet import (Map, GeoData, basemaps, WidgetControl, GeoJSON,\n",
    "    LayersControl, Icon, Marker,basemap_to_tiles, Choropleth,\n",
    "    MarkerCluster, Heatmap,SearchControl, \n",
    "    FullScreenControl)\n",
    "from ipywidgets import Text, HTML\n",
    "from branca.colormap import linear\n",
    "\n",
    "import geopandas as gpd\n",
    "import json\n",
    "import requests\n",
    "\n",
    "from osgeo import ogr\n",
    "\n",
    "from owslib.wfs import WebFeatureService\n",
    "from owslib.wms import WebMapService"
   ]
  },
  {
   "cell_type": "markdown",
   "metadata": {},
   "source": [
    "## 1. Obtaining data from WDPA\n",
    "We'll be looking at Tonga again for protected areas. The data can be obtained from [here](https://www.protectedplanet.net/country/TON).\n",
    "\n",
    "We'll be using the shapefiles which is listed as 'SHP' on the WDPA site.\n",
    "When downloaded, the Tonga shapefiles have three parts and are located in the following folders: WDPA_WDOECM_TON_shp0, WDPA_WDOECM_TON_shp1, WDPA_WDOECM_TON_shp2.\n",
    "Using geopandas, we'll work with the shapefiles as geodataframes for easier data analysis.\n",
    "\n",
    "Let's start off by opening our downloaded shapefiles as geodataframes for all of the protected areas for Tonga\n",
    "(Note: file path may need to be changed to local location of downloaded Tonga shapefiles):"
   ]
  },
  {
   "cell_type": "code",
   "execution_count": null,
   "metadata": {},
   "outputs": [],
   "source": [
    "tonga1 = gpd.read_file('data/WDPA_WDOECM_Feb2021_Public_TON_shp/WDPA_WDOECM_Feb2021_Public_TON_shp_0/WDPA_WDOECM_Feb2021_Public_TON_shp-polygons.shp')"
   ]
  },
  {
   "cell_type": "code",
   "execution_count": null,
   "metadata": {},
   "outputs": [],
   "source": [
    "tonga2 = gpd.read_file('data/WDPA_WDOECM_Feb2021_Public_TON_shp/WDPA_WDOECM_Feb2021_Public_TON_shp_1/WDPA_WDOECM_Feb2021_Public_TON_shp-polygons.shp')"
   ]
  },
  {
   "cell_type": "code",
   "execution_count": null,
   "metadata": {},
   "outputs": [],
   "source": [
    "tonga3 = gpd.read_file('data/WDPA_WDOECM_Feb2021_Public_TON_shp/WDPA_WDOECM_Feb2021_Public_TON_shp_2/WDPA_WDOECM_Feb2021_Public_TON_shp-polygons.shp')"
   ]
  },
  {
   "cell_type": "markdown",
   "metadata": {},
   "source": [
    "Here, we have combined all of the shapefiles into one dataframe, `tonga`."
   ]
  },
  {
   "cell_type": "code",
   "execution_count": null,
   "metadata": {},
   "outputs": [],
   "source": [
    "tonga_protected = tonga1.append(tonga2)\n",
    "tonga_protected = tonga_protected.append(tonga3)"
   ]
  },
  {
   "cell_type": "markdown",
   "metadata": {},
   "source": [
    "Now let's take a look at the data! The main pieces of data we're interested in are the protected area names, designation, managing authority, and the geometry of the area."
   ]
  },
  {
   "cell_type": "code",
   "execution_count": null,
   "metadata": {},
   "outputs": [],
   "source": [
    "tonga_protected"
   ]
  },
  {
   "cell_type": "markdown",
   "metadata": {},
   "source": [
    "# 2. Visualizing Protected Regions\n",
    "For visualization, we'll be using IPyLeaflet. Further details on IPyLeaflet library can be found in its official documentation [here](https://ipyleaflet.readthedocs.io/en/latest/) and in this tutorial [here](https://towardsdatascience.com/ipyleaflet-interactive-mapping-in-jupyter-notebook-994f19611e79).\n",
    "\n",
    "We'll first create a basemap zoomed in with Tonga as the center."
   ]
  },
  {
   "cell_type": "code",
   "execution_count": null,
   "metadata": {
    "scrolled": true
   },
   "outputs": [],
   "source": [
    "center = [-21.248,-175.188]\n",
    "zoom = 10\n",
    "\n",
    "\n",
    "tonga_map = Map(basemap=basemaps.OpenStreetMap.Mapnik, center=center, zoom=zoom)\n",
    "tonga_map"
   ]
  },
  {
   "cell_type": "markdown",
   "metadata": {},
   "source": [
    "Next, we'll add a layer which displays all the protected areas from the geometries in our `tonga_protected` dataframe."
   ]
  },
  {
   "cell_type": "code",
   "execution_count": null,
   "metadata": {
    "scrolled": true
   },
   "outputs": [],
   "source": [
    "protected_areas = GeoData(geo_dataframe = tonga_protected,\n",
    "                  style={'color': 'black', \n",
    "                         'fillColor': '#E0D071',\n",
    "                         'opacity':0.03, \n",
    "                         'weight':1.9, 'dashArray': '2', \n",
    "                         'fillOpacity':0.6},\n",
    "                  hover_style={'fillColor': '#b08a3e', \n",
    "                               'fillOpacity': 0.8},\n",
    "                  name = 'Tonga1')\n",
    "tonga_map.add_layer(protected_areas)\n",
    "tonga_map"
   ]
  },
  {
   "cell_type": "markdown",
   "metadata": {},
   "source": [
    "We'll now add a guide which will display the name of the protected region, designation, and managing authority when hovering over a particular protected area."
   ]
  },
  {
   "cell_type": "code",
   "execution_count": null,
   "metadata": {},
   "outputs": [],
   "source": [
    "html = HTML('''Hover Over Protected Areas''')\n",
    "html.layout.margin = '0px 20px 20px 20px'\n",
    "control = WidgetControl(widget=html, position='topright')\n",
    "tonga_map.add_control(control)\n",
    "\n",
    "def update_html(feature, **kwargs):\n",
    "    html.value = '''\n",
    "    <h3>{}</h3>\n",
    "    <h4>Designation type: {}</h4>\n",
    "    <h4>Managing authority: {}</h4>\n",
    "    '''.format(feature['properties']['ORIG_NAME'],\n",
    "              feature['properties']['DESIG'],\n",
    "              feature['properties']['MANG_AUTH'])\n",
    "\n",
    "protected_areas.on_hover(update_html)\n",
    "tonga_map"
   ]
  },
  {
   "cell_type": "markdown",
   "metadata": {},
   "source": [
    "# 3. Determine What ACA Mapped Areas Are Protected"
   ]
  },
  {
   "cell_type": "markdown",
   "metadata": {},
   "source": [
    "The EEZ data is obtained from MarineRegions and the benthic and geomorphic cover data will be from the Allen Coral Atlas.\n",
    "\n",
    "We'll repeat steps from our tutorial that obtains benthic and geomorphic cover from a given EEZ:\n",
    "First, we'll create a dictionary with the keys being all the areas within the ACA and the values being the associated Marine Regions ID. We'll need the Marine Regions ID in the second section in order to obtain the EEZ of a specific country/area. To do so, we'll grab the Marine Regions EEZ map and restrict the output with a bounding box that is representative of the ACA area.\n",
    "\n",
    "Note that this request can take up to 3 minutes."
   ]
  },
  {
   "cell_type": "code",
   "execution_count": null,
   "metadata": {},
   "outputs": [],
   "source": [
    "wfs = WebFeatureService(url='https://geo.vliz.be/geoserver/MarineRegions/wfs', version='1.1.0')\n",
    "response = wfs.getfeature(typename='MarineRegions:eez', \n",
    "                          bbox=(-180,-23.5,180,20), \n",
    "                          srsname='urn:x-ogc:def:crs:EPSG:4326', \n",
    "                          outputFormat='application/json')\n",
    "eez_data = json.load(response)"
   ]
  },
  {
   "cell_type": "markdown",
   "metadata": {},
   "source": [
    "Here, we create a dictionary and ensure that disputed and/or shared territories are included with the following filtering parameters."
   ]
  },
  {
   "cell_type": "code",
   "execution_count": null,
   "metadata": {},
   "outputs": [],
   "source": [
    "mrgid_dict = {}\n",
    "for country in eez_data['features']:\n",
    "    if country['properties']['pol_type'] == '200NM':\n",
    "        mrgid_dict[country['properties']['territory1']] = country['properties']['mrgid']\n",
    "    else:\n",
    "        mrgid_dict[country['properties']['geoname']] = country['properties']['mrgid']"
   ]
  },
  {
   "cell_type": "markdown",
   "metadata": {},
   "source": [
    "We'll also use our `get_eez_map` function from the first tutorial to get Tonga's EEZ again."
   ]
  },
  {
   "cell_type": "code",
   "execution_count": null,
   "metadata": {},
   "outputs": [],
   "source": [
    "def get_eez_map(country_mrgid):\n",
    "    '''Given a country mrgid(Marine region country code), returns a geojson of a country\\'s EEZ'''\n",
    "    url = 'https://geo.vliz.be/geoserver/MarineRegions/wfs?service=WFS&version=1.1.0&request=GetFeature&typeName=eez&cql_filter=mrgid=' + str(country_mrgid) + '&outputformat=application/json'\n",
    "    response = requests.get(url)\n",
    "    eez = response.json()\n",
    "    return eez"
   ]
  },
  {
   "cell_type": "code",
   "execution_count": null,
   "metadata": {},
   "outputs": [],
   "source": [
    "tonga_eez_json = get_eez_map(mrgid_dict['Tonga'])"
   ]
  },
  {
   "cell_type": "markdown",
   "metadata": {},
   "source": [
    "We'll now take the geojson of Tonga's EEZ and transform it to a GeoDataFrame."
   ]
  },
  {
   "cell_type": "code",
   "execution_count": null,
   "metadata": {},
   "outputs": [],
   "source": [
    "tonga_eez = gpd.GeoDataFrame.from_features(tonga_eez_json)"
   ]
  },
  {
   "cell_type": "markdown",
   "metadata": {},
   "source": [
    "Next we will (1) make a bounding box, (2) get the benthic and geomorphic layers, and (3) obtain the intersection between the ACA and EEZ layers.\n",
    "Here is a summary of the functions to achieve these steps:\n",
    "- `make_bounding_box(geojson)`: Transforms a geojson to a bounding box\n",
    "- `get_aca_layer(layer, bounding_box)`: Given a bounding box, a request is made and downloads either the benthic and geomorphic layers from the Allen Coral Atlas"
   ]
  },
  {
   "cell_type": "code",
   "execution_count": null,
   "metadata": {},
   "outputs": [],
   "source": [
    "def make_bounding_box(geojson):\n",
    "    '''From a geojson, creates a bounding box which is a list of 4 coordinates'''\n",
    "    geom_text = json.dumps(geojson[\"features\"][0][\"geometry\"])\n",
    "    geom = ogr.CreateGeometryFromJson(geom_text)\n",
    "    env = geom.GetEnvelope()\n",
    "\n",
    "    MAX_LONG = 180.0\n",
    "    MIN_LONG = -180.0\n",
    "    MAX_LAT = 90.0\n",
    "    MIN_LAT = -90.0\n",
    "\n",
    "    return (max(min(MAX_LONG, env[0]), MIN_LONG),\n",
    "            max(min(MAX_LAT, env[2]), MIN_LAT),\n",
    "            max(min(MAX_LONG, env[1]), MIN_LONG),\n",
    "            max(min(MAX_LAT, env[3]), MIN_LAT))"
   ]
  },
  {
   "cell_type": "code",
   "execution_count": null,
   "metadata": {},
   "outputs": [],
   "source": [
    "def get_aca_layer(layer, bounding_box):\n",
    "    '''Gets either geomorphic or benthic layer in geojson from the ACA and returns is a geopandas GeoDataFrame'''\n",
    "    # layer options: ['reef_polygons_benthic_expanded'] or ['reef_polygons_geomorphic_expanded']\n",
    "    wms = WebMapService('https://allencoralatlas.org/geoserver/coral-atlas/wms',\n",
    "                        version='1.3.0',\n",
    "                        headers={'User-Agent': 'owslib'})\n",
    "    country_aca_layer = wms.getmap(layers=layer, \n",
    "                                   srs='EPSG:4326', \n",
    "                                   bbox=bounding_box, \n",
    "                                   size=(256,256),\n",
    "                                   timeout=60,\n",
    "                                   format='application/json;type=geojson')\n",
    "    try:\n",
    "        country_aca_layer_geojson = json.load(country_aca_layer)\n",
    "        return gpd.GeoDataFrame.from_features(country_aca_layer_geojson)\n",
    "    except ValueError:\n",
    "        if country_aca_layer._response.status_code == 429:\n",
    "            print('Too many requests have been made in a given amount of time, please wait another minute to send another request.')\n",
    "        else:\n",
    "            print('Error acquiring layer, response code: ' + str(country_aca_layer._response.status_code))"
   ]
  },
  {
   "cell_type": "markdown",
   "metadata": {},
   "source": [
    "Let's first get the bounding box."
   ]
  },
  {
   "cell_type": "code",
   "execution_count": null,
   "metadata": {},
   "outputs": [],
   "source": [
    "tonga_bbox = make_bounding_box(tonga_eez_json)"
   ]
  },
  {
   "cell_type": "markdown",
   "metadata": {},
   "source": [
    "We'll now take our `tongabbox` and obtain the benthic and geomorphic layers using our previously defined `get_aca_layer` function we defined earlier. Currently, to request the benthic layer, ['benthic_data_verbose'], is used and to request the geomorphic layer, ['geomorphic_data_verbose'], is used."
   ]
  },
  {
   "cell_type": "code",
   "execution_count": null,
   "metadata": {
    "scrolled": false
   },
   "outputs": [],
   "source": [
    "benthic_tonga = get_aca_layer(['benthic_data_verbose'], tonga_bbox)"
   ]
  },
  {
   "cell_type": "code",
   "execution_count": null,
   "metadata": {},
   "outputs": [],
   "source": [
    "geomorphic_tonga = get_aca_layer(['geomorphic_data_verbose'], tonga_bbox)"
   ]
  },
  {
   "cell_type": "markdown",
   "metadata": {},
   "source": [
    "We'll now obtain the intersection between the ACA layers and the Marine Regions EEZ. The intersection will be a GeoDataFrame which will make data analysis easier."
   ]
  },
  {
   "cell_type": "code",
   "execution_count": null,
   "metadata": {},
   "outputs": [],
   "source": [
    "benthic_tonga_eez = gpd.overlay(benthic_tonga,\n",
    "                                tonga_eez,\n",
    "                                how=\"intersection\").set_crs('EPSG:4326')"
   ]
  },
  {
   "cell_type": "code",
   "execution_count": null,
   "metadata": {},
   "outputs": [],
   "source": [
    "geomorphic_tonga_eez = gpd.overlay(geomorphic_tonga,\n",
    "                                   tonga_eez,\n",
    "                                   how=\"intersection\").set_crs('EPSG:4326')"
   ]
  },
  {
   "cell_type": "markdown",
   "metadata": {},
   "source": [
    "We'll now determine the benthic and geomorphic cover within Tonga's current protected areas."
   ]
  },
  {
   "cell_type": "code",
   "execution_count": null,
   "metadata": {},
   "outputs": [],
   "source": [
    "benthic_tonga_eez_protected = gpd.overlay(benthic_tonga_eez,\n",
    "                                          tonga_protected,\n",
    "                                          how=\"intersection\").set_crs('EPSG:4326')"
   ]
  },
  {
   "cell_type": "code",
   "execution_count": null,
   "metadata": {},
   "outputs": [],
   "source": [
    "geomorphic_tonga_eez_protected = gpd.overlay(geomorphic_tonga_eez,\n",
    "                                             tonga_protected,\n",
    "                                             how=\"intersection\").set_crs('EPSG:4326')"
   ]
  },
  {
   "cell_type": "markdown",
   "metadata": {},
   "source": [
    "We can now use IPyLeaflet to visualize the ACA mapped area within the protected areas."
   ]
  },
  {
   "cell_type": "code",
   "execution_count": null,
   "metadata": {},
   "outputs": [],
   "source": [
    "benthic = GeoData(geo_dataframe = benthic_tonga_eez_protected,\n",
    "                  style={'color': 'orange', \n",
    "                         'fillColor': '#b0553e',\n",
    "                         'opacity':0.03, \n",
    "                         'weight':1.9, 'dashArray': '2', \n",
    "                         'fillOpacity':0.8},\n",
    "                  hover_style={'fillColor': '#b0553e', \n",
    "                               'fillOpacity': 0.9},\n",
    "                  name = 'benthic')\n",
    "tonga_map.add_layer(benthic)\n",
    "tonga_map"
   ]
  },
  {
   "cell_type": "markdown",
   "metadata": {},
   "source": [
    "Let's now calculate the numerical breakdown of the amount of benthic and geomorphic cover that is protected. We'll first reproject our data to the Mollweide projection which is an equal area projection. This will give a more accurate estimate of the protected areas in square meters.\n",
    "We'll also add a 'total_area' column to the dataframe to simplify a calculation."
   ]
  },
  {
   "cell_type": "code",
   "execution_count": null,
   "metadata": {},
   "outputs": [],
   "source": [
    "benthic_tonga_eez = benthic_tonga_eez.to_crs('ESRI:54009')\n",
    "geomorphic_tonga_eez = geomorphic_tonga_eez.to_crs('ESRI:54009')\n",
    "benthic_tonga_eez_protected = benthic_tonga_eez_protected.to_crs('ESRI:54009')\n",
    "geomorphic_tonga_eez_protected = geomorphic_tonga_eez_protected.to_crs('ESRI:54009')"
   ]
  },
  {
   "cell_type": "markdown",
   "metadata": {},
   "source": [
    "Using Pandas, we'll now query the `benthic_tonga_eez_protected` and `geomorphic_tonga_eez_protected` dataframes to calculate Tonga's percent distribution of subtypes for benthic and geomorphic alongside the percentage that is protected.\n",
    "First we'll add a total_area column to simplify the calculations:"
   ]
  },
  {
   "cell_type": "code",
   "execution_count": null,
   "metadata": {},
   "outputs": [],
   "source": [
    "benthic_tonga_eez['total_area'] = benthic_tonga_eez['geometry'].map(lambda p: p.area / 10**6)\n",
    "geomorphic_tonga_eez['total_area'] = geomorphic_tonga_eez['geometry'].map(lambda p: p.area / 10**6)\n",
    "benthic_tonga_eez_protected['total_area'] = benthic_tonga_eez_protected['geometry'].map(lambda p: p.area / 10**6)\n",
    "geomorphic_tonga_eez_protected['total_area'] = geomorphic_tonga_eez_protected['geometry'].map(lambda p: p.area / 10**6)"
   ]
  },
  {
   "cell_type": "code",
   "execution_count": null,
   "metadata": {},
   "outputs": [],
   "source": [
    "benthic_tonga_dist = benthic_tonga_eez.groupby('class_name')['total_area'].sum().to_frame()\n",
    "benthic_tonga_dist['protected_area'] = benthic_tonga_eez_protected.groupby('class_name')['total_area'].sum().to_frame()\n",
    "benthic_tonga_dist['percent_protected'] = benthic_tonga_dist['protected_area']/benthic_tonga_dist['total_area'] * 100"
   ]
  },
  {
   "cell_type": "code",
   "execution_count": null,
   "metadata": {
    "scrolled": false
   },
   "outputs": [],
   "source": [
    "benthic_tonga_dist"
   ]
  },
  {
   "cell_type": "markdown",
   "metadata": {},
   "source": [
    "Now let's do the same for the geomorphic data."
   ]
  },
  {
   "cell_type": "code",
   "execution_count": null,
   "metadata": {},
   "outputs": [],
   "source": [
    "geomorphic_tonga_dist = geomorphic_tonga_eez.groupby('class_name')['total_area'].sum().to_frame()\n",
    "geomorphic_tonga_dist['protected_area'] = geomorphic_tonga_eez_protected.groupby('class_name')['total_area'].sum().to_frame()\n",
    "geomorphic_tonga_dist['percent_protected'] = geomorphic_tonga_dist['protected_area']/geomorphic_tonga_dist['total_area'] * 100"
   ]
  },
  {
   "cell_type": "code",
   "execution_count": null,
   "metadata": {
    "scrolled": false
   },
   "outputs": [],
   "source": [
    "geomorphic_tonga_dist"
   ]
  },
  {
   "cell_type": "markdown",
   "metadata": {},
   "source": [
    "# 4. Visualizing Unprotected Areas"
   ]
  },
  {
   "cell_type": "code",
   "execution_count": null,
   "metadata": {},
   "outputs": [],
   "source": [
    "unprotected_benthic_tonga = gpd.overlay(benthic_tonga_eez.to_crs('EPSG:4326'), tonga_protected, how='difference')"
   ]
  },
  {
   "cell_type": "code",
   "execution_count": null,
   "metadata": {
    "pycharm": {
     "name": "#%%\n"
    },
    "scrolled": true
   },
   "outputs": [],
   "source": [
    "center = [-21.248,-175.188]\n",
    "zoom = 10\n",
    "\n",
    "tonga_unprotected_areas_map = Map(basemap=basemaps.OpenStreetMap.Mapnik, center=center, zoom=zoom)\n",
    "unprotected_benthic = GeoData(geo_dataframe = unprotected_benthic_tonga,\n",
    "                  style={'color': 'orange', \n",
    "                         'fillColor': '#b0553e',\n",
    "                         'opacity':0.03, \n",
    "                         'weight':1.9, 'dashArray': '2', \n",
    "                         'fillOpacity':0.8},\n",
    "                  hover_style={'fillColor': '#b0553e', \n",
    "                               'fillOpacity': 0.9},\n",
    "                  name = 'benthic')\n",
    "tonga_unprotected_areas_map.add_layer(unprotected_benthic)\n",
    "tonga_unprotected_areas_map"
   ]
  }
 ],
 "metadata": {
  "kernelspec": {
   "display_name": "Python 3",
   "language": "python",
   "name": "python3"
  },
  "language_info": {
   "codemirror_mode": {
    "name": "ipython",
    "version": 3
   },
   "file_extension": ".py",
   "mimetype": "text/x-python",
   "name": "python",
   "nbconvert_exporter": "python",
   "pygments_lexer": "ipython3",
   "version": "3.7.7"
  }
 },
 "nbformat": 4,
 "nbformat_minor": 4
}
