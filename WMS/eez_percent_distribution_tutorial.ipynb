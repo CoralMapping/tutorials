{
 "cells": [
  {
   "cell_type": "markdown",
   "metadata": {},
   "source": [
    "\n",
    "\n",
    "\n",
    "# Tutorial: Getting the Percent Distribution of Benthic and Geomorphic Classes Given an EEZ\n",
    "\n",
    "### Purpose\n",
    "In this tutorial, we'll walk through how to get the percent distribution of benthic and geomorphic classes within the bounds of an Exclusive Economic Zone (EEZ). The percent distribution is based off of the Allen Coral Atlas (ACA) and the EEZ is based off of the Marine Regions web map services layer. This is a starting guide that can serve as a launchpad for further analyses such as comparing the percent distribution of multiple countries and integration of other datasets for analysis.\n",
    "\n",
    "\n",
    "### Setup\n",
    "We recommend using a Conda environment with the packages listed below. Instructions to add a Conda environment to a jupyter notebook can be found [here](https://medium.com/@nrk25693/how-to-add-your-conda-environment-to-your-jupyter-notebook-in-just-4-steps-abeab8b8d084), and Conda documentation can be found [here](https://docs.conda.io/en/latest/).\n",
    " \n",
    " ### Contents\n",
    " \n",
    " 1. Creating a Dictionary of Countries/Areas and Their Associated Marine Regions ID (MRGID)\n",
    "\n",
    " 2. Retrieving Benthic and Geomorphic Layers for a Given EEZ\n",
    "\n",
    " 3. Reproject the Layers to an Equal Area Projection\n",
    " \n",
    " 4. Calculate Percent Distribution for the Benthic and Geomorphic Classes\n",
    " \n",
    " 5. Visualization: Reproducing Donut Charts from the Web Platform\n",
    " \n",
    " 6. Comparison between Tonga and Jamaica\n",
    " "
   ]
  },
  {
   "cell_type": "markdown",
   "metadata": {},
   "source": [
    "### Considerations\n",
    "\n",
    "- Currently, the Equal Area projection used in this tutorial is Eckert IV, although it's possible that another projection could more accurately reflect the total area for these EEZs.\n",
    "- Error handling has not been implemented for clarity's sake\n",
    "- Unit testing has not been implemented but is advised when doing these analyses\n",
    "- For regions such as Fiji, it is advised to change projections to a Pacific centered projection\n"
   ]
  },
  {
   "cell_type": "markdown",
   "metadata": {},
   "source": [
    "### Packages to Import"
   ]
  },
  {
   "cell_type": "code",
   "execution_count": 1,
   "metadata": {},
   "outputs": [],
   "source": [
    "import geopandas as gpd\n",
    "import json\n",
    "import matplotlib.pyplot as plt\n",
    "import requests\n",
    "\n",
    "from osgeo import ogr\n",
    "\n",
    "from owslib.wfs import WebFeatureService\n",
    "from owslib.wms import WebMapService"
   ]
  },
  {
   "cell_type": "markdown",
   "metadata": {},
   "source": [
    "# 1. Creating a Dictionary of Territories and Their Associated Marine Regions ID (MRGID)"
   ]
  },
  {
   "cell_type": "markdown",
   "metadata": {},
   "source": [
    "First, we'll create a dictionary with the keys being all the areas within the ACA and the values being the associated Marine Regions ID. We'll need the Marine Regions ID in the second section in order to obtain the EEZ of a specific country/area. To do so, we'll grab the Marine Regions EEZ map and restrict the output with a bounding box that is representative of the ACA area.\n",
    "\n",
    "Note that this request can take up to 3 minutes."
   ]
  },
  {
   "cell_type": "code",
   "execution_count": 2,
   "metadata": {},
   "outputs": [],
   "source": [
    "wfs = WebFeatureService(url='https://geo.vliz.be/geoserver/MarineRegions/wfs', version='1.1.0')\n",
    "response = wfs.getfeature(typename='MarineRegions:eez', \n",
    "                          bbox=(-180,-23.5,180,20), \n",
    "                          srsname='urn:x-ogc:def:crs:EPSG:4326', \n",
    "                          outputFormat='application/json')\n",
    "eez_data = json.load(response)"
   ]
  },
  {
   "cell_type": "markdown",
   "metadata": {},
   "source": [
    "Here, we create the dictionary and ensure that disputed and/or shared territories are included with the following filtering parameters."
   ]
  },
  {
   "cell_type": "code",
   "execution_count": 3,
   "metadata": {},
   "outputs": [],
   "source": [
    "mrgid_dict = {}\n",
    "for country in eez_data['features']:\n",
    "    if country['properties']['pol_type'] == '200NM':\n",
    "        mrgid_dict[country['properties']['territory1']] = country['properties']['mrgid']\n",
    "    else:\n",
    "        mrgid_dict[country['properties']['geoname']] = country['properties']['mrgid']"
   ]
  },
  {
   "cell_type": "markdown",
   "metadata": {},
   "source": [
    "Now that we have successfully created a dictionary of countries/areas with their associated MRGID, we can take a look at the first 10 entries."
   ]
  },
  {
   "cell_type": "code",
   "execution_count": 4,
   "metadata": {
    "scrolled": false
   },
   "outputs": [
    {
     "data": {
      "text/plain": [
       "{'Chagos Archipelago': 62589,\n",
       " 'Joint regime area Colombia / Dominican Republic': 48970,\n",
       " 'Overlapping claim: Venezuela / Colombia / Dominican Republic': 48971,\n",
       " 'Joint regime area Honduras / Cayman Islands': 48972,\n",
       " 'Venezuela': 8433,\n",
       " 'Honduras': 8427,\n",
       " 'Johnston Atoll': 8452,\n",
       " 'Colombia': 8426,\n",
       " 'Yemen': 8353,\n",
       " 'Christmas Island': 8309}"
      ]
     },
     "execution_count": 4,
     "metadata": {},
     "output_type": "execute_result"
    }
   ],
   "source": [
    "{eez: mrgid_dict[eez] for eez in list(mrgid_dict)[:10]}"
   ]
  },
  {
   "cell_type": "markdown",
   "metadata": {},
   "source": [
    "In total, we have 171 entries."
   ]
  },
  {
   "cell_type": "code",
   "execution_count": 5,
   "metadata": {},
   "outputs": [
    {
     "data": {
      "text/plain": [
       "171"
      ]
     },
     "execution_count": 5,
     "metadata": {},
     "output_type": "execute_result"
    }
   ],
   "source": [
    "len(mrgid_dict)"
   ]
  },
  {
   "cell_type": "markdown",
   "metadata": {},
   "source": [
    "# 2. Retrieving Benthic and Geomorphic Layers for a Given EEZ\n",
    "\n",
    "With our dictionary completed, we can now go through the process of obtaining the benthic and geomorphic layers for a specific area of interest. There are four steps to this:\n",
    "\n",
    "1. Getting the EEZ area based off of a MRGID\n",
    "2. Making a bounding box from said EEZ area\n",
    "3. Obtaining the layers from the ACA using the bounding box\n",
    "4. Getting the intersection between the ACA and the Marine Regions EEZ area\n",
    "\n",
    "\n",
    "Here is the overview of the helper functions to achieve these four steps:\n",
    "\n",
    "- `get_eez_map(country_mrgid)`: Gets the EEZ geojson from the Marine Regions GeoServer\n",
    "- `make_bounding_box(geojson)`: Transforms a geojson to a bounding box\n",
    "- `get_aca_layer(layer, bounding_box)`: Given a bounding box, a request is made and downloads either the benthic and geomorphic layers from the Allen Coral Atlas\n",
    "- `eez_intersection(aca_layer,eez)`: Get the intersection between the Allen Coral Atlas layers and the EEZ geojson from Marine Regions"
   ]
  },
  {
   "cell_type": "markdown",
   "metadata": {},
   "source": [
    "Note: The external inquiry made in the `get_eez_map` method can take more than a minute."
   ]
  },
  {
   "cell_type": "code",
   "execution_count": 7,
   "metadata": {},
   "outputs": [],
   "source": [
    "def get_eez_map(country_mrgid):\n",
    "    '''Given a country mrgid(Marine region country code), returns a geojson of a country\\'s EEZ'''\n",
    "    url = 'https://geo.vliz.be/geoserver/MarineRegions/wfs?service=WFS&version=1.1.0&request=GetFeature&typeName=eez&cql_filter=mrgid=' + str(country_mrgid) + '&outputformat=application/json'\n",
    "    response = requests.get(url)\n",
    "    eez = response.json()\n",
    "    return eez"
   ]
  },
  {
   "cell_type": "markdown",
   "metadata": {},
   "source": [
    "The `make_bounding_box` helper function grabs the first feature and protects if from wrapping at the antimeridian."
   ]
  },
  {
   "cell_type": "code",
   "execution_count": 8,
   "metadata": {},
   "outputs": [],
   "source": [
    "def make_bounding_box(geojson):\n",
    "    '''From a geojson, creates a bounding box which is a list of 4 coordinates'''\n",
    "    geom_text = json.dumps(geojson[\"features\"][0][\"geometry\"])\n",
    "    geom = ogr.CreateGeometryFromJson(geom_text)\n",
    "    env = geom.GetEnvelope()\n",
    "\n",
    "    MAX_LONG = 180.0\n",
    "    MIN_LONG = -180.0\n",
    "    MAX_LAT = 90.0\n",
    "    MIN_LAT = -90.0\n",
    "\n",
    "    return (max(min(MAX_LONG, env[0]), MIN_LONG),\n",
    "            max(min(MAX_LAT, env[2]), MIN_LAT),\n",
    "            max(min(MAX_LONG, env[1]), MIN_LONG),\n",
    "            max(min(MAX_LAT, env[3]), MIN_LAT))"
   ]
  },
  {
   "cell_type": "code",
   "execution_count": 9,
   "metadata": {},
   "outputs": [],
   "source": [
    "def get_aca_layer(layer, bounding_box):\n",
    "    '''Gets either geomorphic or benthic layer in geojson from the ACA'''\n",
    "    # layer options: ['reef_polygons_benthic_expanded'] or ['reef_polygons_geomorphic_expanded']\n",
    "    wms = WebMapService('https://allencoralatlas.org/geoserver/coral-atlas/wms',\n",
    "                        version='1.3.0',\n",
    "                        headers={'User-Agent': 'owslib'})\n",
    "    country_aca_layer = wms.getmap(layers=layer, \n",
    "                                   srs='EPSG:4326', \n",
    "                                   bbox=bounding_box, \n",
    "                                   size=(256,256),\n",
    "                                   timeout=60,\n",
    "                                   format='application/json;type=geojson')\n",
    "    try:\n",
    "        country_aca_layer_geojson = json.load(country_aca_layer)\n",
    "        return country_aca_layer_geojson\n",
    "    except ValueError:\n",
    "        if country_aca_layer._response.status_code == 429:\n",
    "            print('Too many requests have been made in a given amount of time, please wait another minute to send another request.')\n",
    "        else:\n",
    "            print('Error acquiring layer, response code: ' + country_aca_layer._response.status_code)         "
   ]
  },
  {
   "cell_type": "markdown",
   "metadata": {},
   "source": [
    "After obtaining the intersection, the layers are now in GeoDataFrame for ease of calculating percent distribution in the next steps."
   ]
  },
  {
   "cell_type": "code",
   "execution_count": 10,
   "metadata": {},
   "outputs": [],
   "source": [
    "def eez_intersection(aca_layer, eez):\n",
    "    '''After getting a benthic/geomorphic layer, get EEZ region in the form of a geodataframe'''\n",
    "    aca_layer = gpd.GeoDataFrame.from_features(aca_layer)\n",
    "    eez = gpd.GeoDataFrame.from_features(eez)\n",
    "    eez_aca_combined = gpd.sjoin(aca_layer, eez)\n",
    "\n",
    "    return eez_aca_combined"
   ]
  },
  {
   "cell_type": "markdown",
   "metadata": {},
   "source": [
    "## Example: Obtaining the Benthic and Geomorphic Layers of Tonga\n",
    "Let's take what we've learned so far to retrieve both the benthic and geomorphic layers of Tonga. We'll first use our MRGID dictionary created in the beginning of the tutorial, `mrgid_dict`, to find Tonga's MRGID."
   ]
  },
  {
   "cell_type": "code",
   "execution_count": 11,
   "metadata": {},
   "outputs": [
    {
     "data": {
      "text/plain": [
       "8448"
      ]
     },
     "execution_count": 11,
     "metadata": {},
     "output_type": "execute_result"
    }
   ],
   "source": [
    "mrgid_dict['Tonga']"
   ]
  },
  {
   "cell_type": "markdown",
   "metadata": {},
   "source": [
    "We'll now use this ID to get the bounding box of Tonga's EEZ."
   ]
  },
  {
   "cell_type": "code",
   "execution_count": 12,
   "metadata": {},
   "outputs": [],
   "source": [
    "tonga = get_eez_map(mrgid_dict['Tonga'])\n",
    "tongabbox = make_bounding_box(tonga)"
   ]
  },
  {
   "cell_type": "markdown",
   "metadata": {},
   "source": [
    "Here, we can take a look at the bounding box coordinates."
   ]
  },
  {
   "cell_type": "code",
   "execution_count": 13,
   "metadata": {
    "scrolled": true
   },
   "outputs": [
    {
     "data": {
      "text/plain": [
       "(-179.08824883, -25.69605746, -171.30527778, -14.15464022)"
      ]
     },
     "execution_count": 13,
     "metadata": {},
     "output_type": "execute_result"
    }
   ],
   "source": [
    "tongabbox"
   ]
  },
  {
   "cell_type": "markdown",
   "metadata": {},
   "source": [
    "We'll now take our `tongabbox` and obtain the benthic and geomorphic layers using our previously defined `get_aca_layer` function we defined earlier. Currently, to request the benthic layer, ['benthic_data_verbose'], is used and to request the geomorphic layer, ['geomorphic_data_verbose'], is used."
   ]
  },
  {
   "cell_type": "markdown",
   "metadata": {},
   "source": [
    "Note: To prevent overloading the GeoServer, it is advised to wait a minute between each request."
   ]
  },
  {
   "cell_type": "code",
   "execution_count": 14,
   "metadata": {},
   "outputs": [],
   "source": [
    "benthic_tonga = get_aca_layer(['benthic_data_verbose'], tongabbox)"
   ]
  },
  {
   "cell_type": "code",
   "execution_count": 14,
   "metadata": {},
   "outputs": [],
   "source": [
    "geomorphic_tonga = get_aca_layer(['geomorphic_data_verbose'], tongabbox)"
   ]
  },
  {
   "cell_type": "markdown",
   "metadata": {},
   "source": [
    "We'll now obtain the intersection between the ACA layers and the Marine Regions EEZ using our defined `eez_intersection` function. The intersection will return a GeoDataFrame which will make data analysis easier."
   ]
  },
  {
   "cell_type": "code",
   "execution_count": 15,
   "metadata": {},
   "outputs": [],
   "source": [
    "benthic_tonga_eez = eez_intersection(benthic_tonga, tonga)"
   ]
  },
  {
   "cell_type": "code",
   "execution_count": 16,
   "metadata": {},
   "outputs": [],
   "source": [
    "geomorphic_tonga_eez = eez_intersection(geomorphic_tonga, tonga)"
   ]
  },
  {
   "cell_type": "markdown",
   "metadata": {},
   "source": [
    "Taking a closer look at what we have, we see that each row of the geodataframe is a polygon that is one of the benthic/geomorphic subtypes."
   ]
  },
  {
   "cell_type": "code",
   "execution_count": 17,
   "metadata": {},
   "outputs": [
    {
     "data": {
      "text/html": [
       "<div>\n",
       "<style scoped>\n",
       "    .dataframe tbody tr th:only-of-type {\n",
       "        vertical-align: middle;\n",
       "    }\n",
       "\n",
       "    .dataframe tbody tr th {\n",
       "        vertical-align: top;\n",
       "    }\n",
       "\n",
       "    .dataframe thead th {\n",
       "        text-align: right;\n",
       "    }\n",
       "</style>\n",
       "<table border=\"1\" class=\"dataframe\">\n",
       "  <thead>\n",
       "    <tr style=\"text-align: right;\">\n",
       "      <th></th>\n",
       "      <th>geometry</th>\n",
       "      <th>area_sqkm</th>\n",
       "      <th>class_name</th>\n",
       "      <th>index_right</th>\n",
       "      <th>mrgid</th>\n",
       "      <th>geoname</th>\n",
       "      <th>mrgid_ter1</th>\n",
       "      <th>pol_type</th>\n",
       "      <th>mrgid_sov1</th>\n",
       "      <th>territory1</th>\n",
       "      <th>...</th>\n",
       "      <th>area_km2</th>\n",
       "      <th>iso_sov1</th>\n",
       "      <th>iso_sov2</th>\n",
       "      <th>iso_sov3</th>\n",
       "      <th>un_sov1</th>\n",
       "      <th>un_sov2</th>\n",
       "      <th>un_sov3</th>\n",
       "      <th>un_ter1</th>\n",
       "      <th>un_ter2</th>\n",
       "      <th>un_ter3</th>\n",
       "    </tr>\n",
       "  </thead>\n",
       "  <tbody>\n",
       "    <tr>\n",
       "      <th>4</th>\n",
       "      <td>POLYGON ((-175.30108 -21.07069, -175.30108 -21...</td>\n",
       "      <td>0.001764</td>\n",
       "      <td>Rock</td>\n",
       "      <td>0</td>\n",
       "      <td>8448</td>\n",
       "      <td>Tongan Exclusive Economic Zone</td>\n",
       "      <td>8674</td>\n",
       "      <td>200NM</td>\n",
       "      <td>8674</td>\n",
       "      <td>Tonga</td>\n",
       "      <td>...</td>\n",
       "      <td>666052</td>\n",
       "      <td>TON</td>\n",
       "      <td>None</td>\n",
       "      <td>None</td>\n",
       "      <td>776</td>\n",
       "      <td>None</td>\n",
       "      <td>None</td>\n",
       "      <td>776</td>\n",
       "      <td>None</td>\n",
       "      <td>None</td>\n",
       "    </tr>\n",
       "    <tr>\n",
       "      <th>5</th>\n",
       "      <td>POLYGON ((-175.33326 -21.07174, -175.33326 -21...</td>\n",
       "      <td>0.000009</td>\n",
       "      <td>Seagrass</td>\n",
       "      <td>0</td>\n",
       "      <td>8448</td>\n",
       "      <td>Tongan Exclusive Economic Zone</td>\n",
       "      <td>8674</td>\n",
       "      <td>200NM</td>\n",
       "      <td>8674</td>\n",
       "      <td>Tonga</td>\n",
       "      <td>...</td>\n",
       "      <td>666052</td>\n",
       "      <td>TON</td>\n",
       "      <td>None</td>\n",
       "      <td>None</td>\n",
       "      <td>776</td>\n",
       "      <td>None</td>\n",
       "      <td>None</td>\n",
       "      <td>776</td>\n",
       "      <td>None</td>\n",
       "      <td>None</td>\n",
       "    </tr>\n",
       "    <tr>\n",
       "      <th>36</th>\n",
       "      <td>POLYGON ((-175.35592 -21.09508, -175.35592 -21...</td>\n",
       "      <td>0.007595</td>\n",
       "      <td>Rock</td>\n",
       "      <td>0</td>\n",
       "      <td>8448</td>\n",
       "      <td>Tongan Exclusive Economic Zone</td>\n",
       "      <td>8674</td>\n",
       "      <td>200NM</td>\n",
       "      <td>8674</td>\n",
       "      <td>Tonga</td>\n",
       "      <td>...</td>\n",
       "      <td>666052</td>\n",
       "      <td>TON</td>\n",
       "      <td>None</td>\n",
       "      <td>None</td>\n",
       "      <td>776</td>\n",
       "      <td>None</td>\n",
       "      <td>None</td>\n",
       "      <td>776</td>\n",
       "      <td>None</td>\n",
       "      <td>None</td>\n",
       "    </tr>\n",
       "    <tr>\n",
       "      <th>46</th>\n",
       "      <td>POLYGON ((-175.36066 -21.10860, -175.36066 -21...</td>\n",
       "      <td>0.011318</td>\n",
       "      <td>Rock</td>\n",
       "      <td>0</td>\n",
       "      <td>8448</td>\n",
       "      <td>Tongan Exclusive Economic Zone</td>\n",
       "      <td>8674</td>\n",
       "      <td>200NM</td>\n",
       "      <td>8674</td>\n",
       "      <td>Tonga</td>\n",
       "      <td>...</td>\n",
       "      <td>666052</td>\n",
       "      <td>TON</td>\n",
       "      <td>None</td>\n",
       "      <td>None</td>\n",
       "      <td>776</td>\n",
       "      <td>None</td>\n",
       "      <td>None</td>\n",
       "      <td>776</td>\n",
       "      <td>None</td>\n",
       "      <td>None</td>\n",
       "    </tr>\n",
       "    <tr>\n",
       "      <th>47</th>\n",
       "      <td>POLYGON ((-175.35423 -21.13638, -175.35423 -21...</td>\n",
       "      <td>0.001178</td>\n",
       "      <td>Rock</td>\n",
       "      <td>0</td>\n",
       "      <td>8448</td>\n",
       "      <td>Tongan Exclusive Economic Zone</td>\n",
       "      <td>8674</td>\n",
       "      <td>200NM</td>\n",
       "      <td>8674</td>\n",
       "      <td>Tonga</td>\n",
       "      <td>...</td>\n",
       "      <td>666052</td>\n",
       "      <td>TON</td>\n",
       "      <td>None</td>\n",
       "      <td>None</td>\n",
       "      <td>776</td>\n",
       "      <td>None</td>\n",
       "      <td>None</td>\n",
       "      <td>776</td>\n",
       "      <td>None</td>\n",
       "      <td>None</td>\n",
       "    </tr>\n",
       "    <tr>\n",
       "      <th>...</th>\n",
       "      <td>...</td>\n",
       "      <td>...</td>\n",
       "      <td>...</td>\n",
       "      <td>...</td>\n",
       "      <td>...</td>\n",
       "      <td>...</td>\n",
       "      <td>...</td>\n",
       "      <td>...</td>\n",
       "      <td>...</td>\n",
       "      <td>...</td>\n",
       "      <td>...</td>\n",
       "      <td>...</td>\n",
       "      <td>...</td>\n",
       "      <td>...</td>\n",
       "      <td>...</td>\n",
       "      <td>...</td>\n",
       "      <td>...</td>\n",
       "      <td>...</td>\n",
       "      <td>...</td>\n",
       "      <td>...</td>\n",
       "      <td>...</td>\n",
       "    </tr>\n",
       "    <tr>\n",
       "      <th>5863</th>\n",
       "      <td>MULTIPOLYGON (((-173.93764 -18.64858, -173.933...</td>\n",
       "      <td>0.705714</td>\n",
       "      <td>Coral/Algae</td>\n",
       "      <td>0</td>\n",
       "      <td>8448</td>\n",
       "      <td>Tongan Exclusive Economic Zone</td>\n",
       "      <td>8674</td>\n",
       "      <td>200NM</td>\n",
       "      <td>8674</td>\n",
       "      <td>Tonga</td>\n",
       "      <td>...</td>\n",
       "      <td>666052</td>\n",
       "      <td>TON</td>\n",
       "      <td>None</td>\n",
       "      <td>None</td>\n",
       "      <td>776</td>\n",
       "      <td>None</td>\n",
       "      <td>None</td>\n",
       "      <td>776</td>\n",
       "      <td>None</td>\n",
       "      <td>None</td>\n",
       "    </tr>\n",
       "    <tr>\n",
       "      <th>5864</th>\n",
       "      <td>POLYGON ((-174.00232 -18.64480, -174.00223 -18...</td>\n",
       "      <td>0.111409</td>\n",
       "      <td>Coral/Algae</td>\n",
       "      <td>0</td>\n",
       "      <td>8448</td>\n",
       "      <td>Tongan Exclusive Economic Zone</td>\n",
       "      <td>8674</td>\n",
       "      <td>200NM</td>\n",
       "      <td>8674</td>\n",
       "      <td>Tonga</td>\n",
       "      <td>...</td>\n",
       "      <td>666052</td>\n",
       "      <td>TON</td>\n",
       "      <td>None</td>\n",
       "      <td>None</td>\n",
       "      <td>776</td>\n",
       "      <td>None</td>\n",
       "      <td>None</td>\n",
       "      <td>776</td>\n",
       "      <td>None</td>\n",
       "      <td>None</td>\n",
       "    </tr>\n",
       "    <tr>\n",
       "      <th>5865</th>\n",
       "      <td>MULTIPOLYGON (((-173.93778 -18.63564, -173.935...</td>\n",
       "      <td>0.662975</td>\n",
       "      <td>Rock</td>\n",
       "      <td>0</td>\n",
       "      <td>8448</td>\n",
       "      <td>Tongan Exclusive Economic Zone</td>\n",
       "      <td>8674</td>\n",
       "      <td>200NM</td>\n",
       "      <td>8674</td>\n",
       "      <td>Tonga</td>\n",
       "      <td>...</td>\n",
       "      <td>666052</td>\n",
       "      <td>TON</td>\n",
       "      <td>None</td>\n",
       "      <td>None</td>\n",
       "      <td>776</td>\n",
       "      <td>None</td>\n",
       "      <td>None</td>\n",
       "      <td>776</td>\n",
       "      <td>None</td>\n",
       "      <td>None</td>\n",
       "    </tr>\n",
       "    <tr>\n",
       "      <th>5866</th>\n",
       "      <td>MULTIPOLYGON (((-175.61853 -15.63330, -175.617...</td>\n",
       "      <td>0.190656</td>\n",
       "      <td>Coral/Algae</td>\n",
       "      <td>0</td>\n",
       "      <td>8448</td>\n",
       "      <td>Tongan Exclusive Economic Zone</td>\n",
       "      <td>8674</td>\n",
       "      <td>200NM</td>\n",
       "      <td>8674</td>\n",
       "      <td>Tonga</td>\n",
       "      <td>...</td>\n",
       "      <td>666052</td>\n",
       "      <td>TON</td>\n",
       "      <td>None</td>\n",
       "      <td>None</td>\n",
       "      <td>776</td>\n",
       "      <td>None</td>\n",
       "      <td>None</td>\n",
       "      <td>776</td>\n",
       "      <td>None</td>\n",
       "      <td>None</td>\n",
       "    </tr>\n",
       "    <tr>\n",
       "      <th>5867</th>\n",
       "      <td>POLYGON ((-173.79921 -15.93782, -173.79894 -15...</td>\n",
       "      <td>3.499486</td>\n",
       "      <td>Sand</td>\n",
       "      <td>0</td>\n",
       "      <td>8448</td>\n",
       "      <td>Tongan Exclusive Economic Zone</td>\n",
       "      <td>8674</td>\n",
       "      <td>200NM</td>\n",
       "      <td>8674</td>\n",
       "      <td>Tonga</td>\n",
       "      <td>...</td>\n",
       "      <td>666052</td>\n",
       "      <td>TON</td>\n",
       "      <td>None</td>\n",
       "      <td>None</td>\n",
       "      <td>776</td>\n",
       "      <td>None</td>\n",
       "      <td>None</td>\n",
       "      <td>776</td>\n",
       "      <td>None</td>\n",
       "      <td>None</td>\n",
       "    </tr>\n",
       "  </tbody>\n",
       "</table>\n",
       "<p>731 rows × 35 columns</p>\n",
       "</div>"
      ],
      "text/plain": [
       "                                               geometry  area_sqkm  \\\n",
       "4     POLYGON ((-175.30108 -21.07069, -175.30108 -21...   0.001764   \n",
       "5     POLYGON ((-175.33326 -21.07174, -175.33326 -21...   0.000009   \n",
       "36    POLYGON ((-175.35592 -21.09508, -175.35592 -21...   0.007595   \n",
       "46    POLYGON ((-175.36066 -21.10860, -175.36066 -21...   0.011318   \n",
       "47    POLYGON ((-175.35423 -21.13638, -175.35423 -21...   0.001178   \n",
       "...                                                 ...        ...   \n",
       "5863  MULTIPOLYGON (((-173.93764 -18.64858, -173.933...   0.705714   \n",
       "5864  POLYGON ((-174.00232 -18.64480, -174.00223 -18...   0.111409   \n",
       "5865  MULTIPOLYGON (((-173.93778 -18.63564, -173.935...   0.662975   \n",
       "5866  MULTIPOLYGON (((-175.61853 -15.63330, -175.617...   0.190656   \n",
       "5867  POLYGON ((-173.79921 -15.93782, -173.79894 -15...   3.499486   \n",
       "\n",
       "       class_name  index_right  mrgid                         geoname  \\\n",
       "4            Rock            0   8448  Tongan Exclusive Economic Zone   \n",
       "5        Seagrass            0   8448  Tongan Exclusive Economic Zone   \n",
       "36           Rock            0   8448  Tongan Exclusive Economic Zone   \n",
       "46           Rock            0   8448  Tongan Exclusive Economic Zone   \n",
       "47           Rock            0   8448  Tongan Exclusive Economic Zone   \n",
       "...           ...          ...    ...                             ...   \n",
       "5863  Coral/Algae            0   8448  Tongan Exclusive Economic Zone   \n",
       "5864  Coral/Algae            0   8448  Tongan Exclusive Economic Zone   \n",
       "5865         Rock            0   8448  Tongan Exclusive Economic Zone   \n",
       "5866  Coral/Algae            0   8448  Tongan Exclusive Economic Zone   \n",
       "5867         Sand            0   8448  Tongan Exclusive Economic Zone   \n",
       "\n",
       "      mrgid_ter1 pol_type  mrgid_sov1 territory1  ... area_km2 iso_sov1  \\\n",
       "4           8674    200NM        8674      Tonga  ...   666052      TON   \n",
       "5           8674    200NM        8674      Tonga  ...   666052      TON   \n",
       "36          8674    200NM        8674      Tonga  ...   666052      TON   \n",
       "46          8674    200NM        8674      Tonga  ...   666052      TON   \n",
       "47          8674    200NM        8674      Tonga  ...   666052      TON   \n",
       "...          ...      ...         ...        ...  ...      ...      ...   \n",
       "5863        8674    200NM        8674      Tonga  ...   666052      TON   \n",
       "5864        8674    200NM        8674      Tonga  ...   666052      TON   \n",
       "5865        8674    200NM        8674      Tonga  ...   666052      TON   \n",
       "5866        8674    200NM        8674      Tonga  ...   666052      TON   \n",
       "5867        8674    200NM        8674      Tonga  ...   666052      TON   \n",
       "\n",
       "      iso_sov2  iso_sov3 un_sov1 un_sov2 un_sov3  un_ter1  un_ter2 un_ter3  \n",
       "4         None      None     776    None    None      776     None    None  \n",
       "5         None      None     776    None    None      776     None    None  \n",
       "36        None      None     776    None    None      776     None    None  \n",
       "46        None      None     776    None    None      776     None    None  \n",
       "47        None      None     776    None    None      776     None    None  \n",
       "...        ...       ...     ...     ...     ...      ...      ...     ...  \n",
       "5863      None      None     776    None    None      776     None    None  \n",
       "5864      None      None     776    None    None      776     None    None  \n",
       "5865      None      None     776    None    None      776     None    None  \n",
       "5866      None      None     776    None    None      776     None    None  \n",
       "5867      None      None     776    None    None      776     None    None  \n",
       "\n",
       "[731 rows x 35 columns]"
      ]
     },
     "execution_count": 17,
     "metadata": {},
     "output_type": "execute_result"
    }
   ],
   "source": [
    "benthic_tonga_eez"
   ]
  },
  {
   "cell_type": "code",
   "execution_count": 18,
   "metadata": {},
   "outputs": [
    {
     "data": {
      "text/html": [
       "<div>\n",
       "<style scoped>\n",
       "    .dataframe tbody tr th:only-of-type {\n",
       "        vertical-align: middle;\n",
       "    }\n",
       "\n",
       "    .dataframe tbody tr th {\n",
       "        vertical-align: top;\n",
       "    }\n",
       "\n",
       "    .dataframe thead th {\n",
       "        text-align: right;\n",
       "    }\n",
       "</style>\n",
       "<table border=\"1\" class=\"dataframe\">\n",
       "  <thead>\n",
       "    <tr style=\"text-align: right;\">\n",
       "      <th></th>\n",
       "      <th>geometry</th>\n",
       "      <th>area_sqkm</th>\n",
       "      <th>class_name</th>\n",
       "      <th>index_right</th>\n",
       "      <th>mrgid</th>\n",
       "      <th>geoname</th>\n",
       "      <th>mrgid_ter1</th>\n",
       "      <th>pol_type</th>\n",
       "      <th>mrgid_sov1</th>\n",
       "      <th>territory1</th>\n",
       "      <th>...</th>\n",
       "      <th>area_km2</th>\n",
       "      <th>iso_sov1</th>\n",
       "      <th>iso_sov2</th>\n",
       "      <th>iso_sov3</th>\n",
       "      <th>un_sov1</th>\n",
       "      <th>un_sov2</th>\n",
       "      <th>un_sov3</th>\n",
       "      <th>un_ter1</th>\n",
       "      <th>un_ter2</th>\n",
       "      <th>un_ter3</th>\n",
       "    </tr>\n",
       "  </thead>\n",
       "  <tbody>\n",
       "    <tr>\n",
       "      <th>28</th>\n",
       "      <td>POLYGON ((-175.60682 -15.61608, -175.60682 -15...</td>\n",
       "      <td>0.000192</td>\n",
       "      <td>Reef Slope</td>\n",
       "      <td>0</td>\n",
       "      <td>8448</td>\n",
       "      <td>Tongan Exclusive Economic Zone</td>\n",
       "      <td>8674</td>\n",
       "      <td>200NM</td>\n",
       "      <td>8674</td>\n",
       "      <td>Tonga</td>\n",
       "      <td>...</td>\n",
       "      <td>666052</td>\n",
       "      <td>TON</td>\n",
       "      <td>None</td>\n",
       "      <td>None</td>\n",
       "      <td>776</td>\n",
       "      <td>None</td>\n",
       "      <td>None</td>\n",
       "      <td>776</td>\n",
       "      <td>None</td>\n",
       "      <td>None</td>\n",
       "    </tr>\n",
       "    <tr>\n",
       "      <th>29</th>\n",
       "      <td>POLYGON ((-175.65964 -15.58091, -175.65964 -15...</td>\n",
       "      <td>0.000096</td>\n",
       "      <td>Plateau</td>\n",
       "      <td>0</td>\n",
       "      <td>8448</td>\n",
       "      <td>Tongan Exclusive Economic Zone</td>\n",
       "      <td>8674</td>\n",
       "      <td>200NM</td>\n",
       "      <td>8674</td>\n",
       "      <td>Tonga</td>\n",
       "      <td>...</td>\n",
       "      <td>666052</td>\n",
       "      <td>TON</td>\n",
       "      <td>None</td>\n",
       "      <td>None</td>\n",
       "      <td>776</td>\n",
       "      <td>None</td>\n",
       "      <td>None</td>\n",
       "      <td>776</td>\n",
       "      <td>None</td>\n",
       "      <td>None</td>\n",
       "    </tr>\n",
       "    <tr>\n",
       "      <th>30</th>\n",
       "      <td>POLYGON ((-175.62012 -15.58091, -175.62012 -15...</td>\n",
       "      <td>0.000096</td>\n",
       "      <td>Reef Slope</td>\n",
       "      <td>0</td>\n",
       "      <td>8448</td>\n",
       "      <td>Tongan Exclusive Economic Zone</td>\n",
       "      <td>8674</td>\n",
       "      <td>200NM</td>\n",
       "      <td>8674</td>\n",
       "      <td>Tonga</td>\n",
       "      <td>...</td>\n",
       "      <td>666052</td>\n",
       "      <td>TON</td>\n",
       "      <td>None</td>\n",
       "      <td>None</td>\n",
       "      <td>776</td>\n",
       "      <td>None</td>\n",
       "      <td>None</td>\n",
       "      <td>776</td>\n",
       "      <td>None</td>\n",
       "      <td>None</td>\n",
       "    </tr>\n",
       "    <tr>\n",
       "      <th>31</th>\n",
       "      <td>POLYGON ((-175.70310 -15.64002, -175.70310 -15...</td>\n",
       "      <td>0.000048</td>\n",
       "      <td>Reef Slope</td>\n",
       "      <td>0</td>\n",
       "      <td>8448</td>\n",
       "      <td>Tongan Exclusive Economic Zone</td>\n",
       "      <td>8674</td>\n",
       "      <td>200NM</td>\n",
       "      <td>8674</td>\n",
       "      <td>Tonga</td>\n",
       "      <td>...</td>\n",
       "      <td>666052</td>\n",
       "      <td>TON</td>\n",
       "      <td>None</td>\n",
       "      <td>None</td>\n",
       "      <td>776</td>\n",
       "      <td>None</td>\n",
       "      <td>None</td>\n",
       "      <td>776</td>\n",
       "      <td>None</td>\n",
       "      <td>None</td>\n",
       "    </tr>\n",
       "    <tr>\n",
       "      <th>32</th>\n",
       "      <td>POLYGON ((-175.61228 -15.71833, -175.61228 -15...</td>\n",
       "      <td>0.000024</td>\n",
       "      <td>Reef Slope</td>\n",
       "      <td>0</td>\n",
       "      <td>8448</td>\n",
       "      <td>Tongan Exclusive Economic Zone</td>\n",
       "      <td>8674</td>\n",
       "      <td>200NM</td>\n",
       "      <td>8674</td>\n",
       "      <td>Tonga</td>\n",
       "      <td>...</td>\n",
       "      <td>666052</td>\n",
       "      <td>TON</td>\n",
       "      <td>None</td>\n",
       "      <td>None</td>\n",
       "      <td>776</td>\n",
       "      <td>None</td>\n",
       "      <td>None</td>\n",
       "      <td>776</td>\n",
       "      <td>None</td>\n",
       "      <td>None</td>\n",
       "    </tr>\n",
       "    <tr>\n",
       "      <th>...</th>\n",
       "      <td>...</td>\n",
       "      <td>...</td>\n",
       "      <td>...</td>\n",
       "      <td>...</td>\n",
       "      <td>...</td>\n",
       "      <td>...</td>\n",
       "      <td>...</td>\n",
       "      <td>...</td>\n",
       "      <td>...</td>\n",
       "      <td>...</td>\n",
       "      <td>...</td>\n",
       "      <td>...</td>\n",
       "      <td>...</td>\n",
       "      <td>...</td>\n",
       "      <td>...</td>\n",
       "      <td>...</td>\n",
       "      <td>...</td>\n",
       "      <td>...</td>\n",
       "      <td>...</td>\n",
       "      <td>...</td>\n",
       "      <td>...</td>\n",
       "    </tr>\n",
       "    <tr>\n",
       "      <th>2947</th>\n",
       "      <td>POLYGON ((-173.99981 -18.64417, -173.99711 -18...</td>\n",
       "      <td>0.519964</td>\n",
       "      <td>Reef Slope</td>\n",
       "      <td>0</td>\n",
       "      <td>8448</td>\n",
       "      <td>Tongan Exclusive Economic Zone</td>\n",
       "      <td>8674</td>\n",
       "      <td>200NM</td>\n",
       "      <td>8674</td>\n",
       "      <td>Tonga</td>\n",
       "      <td>...</td>\n",
       "      <td>666052</td>\n",
       "      <td>TON</td>\n",
       "      <td>None</td>\n",
       "      <td>None</td>\n",
       "      <td>776</td>\n",
       "      <td>None</td>\n",
       "      <td>None</td>\n",
       "      <td>776</td>\n",
       "      <td>None</td>\n",
       "      <td>None</td>\n",
       "    </tr>\n",
       "    <tr>\n",
       "      <th>2953</th>\n",
       "      <td>MULTIPOLYGON (((-175.61799 -15.63316, -175.617...</td>\n",
       "      <td>0.631684</td>\n",
       "      <td>Reef Slope</td>\n",
       "      <td>0</td>\n",
       "      <td>8448</td>\n",
       "      <td>Tongan Exclusive Economic Zone</td>\n",
       "      <td>8674</td>\n",
       "      <td>200NM</td>\n",
       "      <td>8674</td>\n",
       "      <td>Tonga</td>\n",
       "      <td>...</td>\n",
       "      <td>666052</td>\n",
       "      <td>TON</td>\n",
       "      <td>None</td>\n",
       "      <td>None</td>\n",
       "      <td>776</td>\n",
       "      <td>None</td>\n",
       "      <td>None</td>\n",
       "      <td>776</td>\n",
       "      <td>None</td>\n",
       "      <td>None</td>\n",
       "    </tr>\n",
       "    <tr>\n",
       "      <th>2954</th>\n",
       "      <td>MULTIPOLYGON (((-175.60155 -15.60499, -175.600...</td>\n",
       "      <td>0.247101</td>\n",
       "      <td>Reef Slope</td>\n",
       "      <td>0</td>\n",
       "      <td>8448</td>\n",
       "      <td>Tongan Exclusive Economic Zone</td>\n",
       "      <td>8674</td>\n",
       "      <td>200NM</td>\n",
       "      <td>8674</td>\n",
       "      <td>Tonga</td>\n",
       "      <td>...</td>\n",
       "      <td>666052</td>\n",
       "      <td>TON</td>\n",
       "      <td>None</td>\n",
       "      <td>None</td>\n",
       "      <td>776</td>\n",
       "      <td>None</td>\n",
       "      <td>None</td>\n",
       "      <td>776</td>\n",
       "      <td>None</td>\n",
       "      <td>None</td>\n",
       "    </tr>\n",
       "    <tr>\n",
       "      <th>2955</th>\n",
       "      <td>MULTIPOLYGON (((-173.75277 -15.83739, -173.749...</td>\n",
       "      <td>0.641733</td>\n",
       "      <td>Terrestrial Reef Flat</td>\n",
       "      <td>0</td>\n",
       "      <td>8448</td>\n",
       "      <td>Tongan Exclusive Economic Zone</td>\n",
       "      <td>8674</td>\n",
       "      <td>200NM</td>\n",
       "      <td>8674</td>\n",
       "      <td>Tonga</td>\n",
       "      <td>...</td>\n",
       "      <td>666052</td>\n",
       "      <td>TON</td>\n",
       "      <td>None</td>\n",
       "      <td>None</td>\n",
       "      <td>776</td>\n",
       "      <td>None</td>\n",
       "      <td>None</td>\n",
       "      <td>776</td>\n",
       "      <td>None</td>\n",
       "      <td>None</td>\n",
       "    </tr>\n",
       "    <tr>\n",
       "      <th>2956</th>\n",
       "      <td>POLYGON ((-173.76409 -15.92641, -173.76095 -15...</td>\n",
       "      <td>4.955769</td>\n",
       "      <td>Terrestrial Reef Flat</td>\n",
       "      <td>0</td>\n",
       "      <td>8448</td>\n",
       "      <td>Tongan Exclusive Economic Zone</td>\n",
       "      <td>8674</td>\n",
       "      <td>200NM</td>\n",
       "      <td>8674</td>\n",
       "      <td>Tonga</td>\n",
       "      <td>...</td>\n",
       "      <td>666052</td>\n",
       "      <td>TON</td>\n",
       "      <td>None</td>\n",
       "      <td>None</td>\n",
       "      <td>776</td>\n",
       "      <td>None</td>\n",
       "      <td>None</td>\n",
       "      <td>776</td>\n",
       "      <td>None</td>\n",
       "      <td>None</td>\n",
       "    </tr>\n",
       "  </tbody>\n",
       "</table>\n",
       "<p>921 rows × 35 columns</p>\n",
       "</div>"
      ],
      "text/plain": [
       "                                               geometry  area_sqkm  \\\n",
       "28    POLYGON ((-175.60682 -15.61608, -175.60682 -15...   0.000192   \n",
       "29    POLYGON ((-175.65964 -15.58091, -175.65964 -15...   0.000096   \n",
       "30    POLYGON ((-175.62012 -15.58091, -175.62012 -15...   0.000096   \n",
       "31    POLYGON ((-175.70310 -15.64002, -175.70310 -15...   0.000048   \n",
       "32    POLYGON ((-175.61228 -15.71833, -175.61228 -15...   0.000024   \n",
       "...                                                 ...        ...   \n",
       "2947  POLYGON ((-173.99981 -18.64417, -173.99711 -18...   0.519964   \n",
       "2953  MULTIPOLYGON (((-175.61799 -15.63316, -175.617...   0.631684   \n",
       "2954  MULTIPOLYGON (((-175.60155 -15.60499, -175.600...   0.247101   \n",
       "2955  MULTIPOLYGON (((-173.75277 -15.83739, -173.749...   0.641733   \n",
       "2956  POLYGON ((-173.76409 -15.92641, -173.76095 -15...   4.955769   \n",
       "\n",
       "                 class_name  index_right  mrgid  \\\n",
       "28               Reef Slope            0   8448   \n",
       "29                  Plateau            0   8448   \n",
       "30               Reef Slope            0   8448   \n",
       "31               Reef Slope            0   8448   \n",
       "32               Reef Slope            0   8448   \n",
       "...                     ...          ...    ...   \n",
       "2947             Reef Slope            0   8448   \n",
       "2953             Reef Slope            0   8448   \n",
       "2954             Reef Slope            0   8448   \n",
       "2955  Terrestrial Reef Flat            0   8448   \n",
       "2956  Terrestrial Reef Flat            0   8448   \n",
       "\n",
       "                             geoname  mrgid_ter1 pol_type  mrgid_sov1  \\\n",
       "28    Tongan Exclusive Economic Zone        8674    200NM        8674   \n",
       "29    Tongan Exclusive Economic Zone        8674    200NM        8674   \n",
       "30    Tongan Exclusive Economic Zone        8674    200NM        8674   \n",
       "31    Tongan Exclusive Economic Zone        8674    200NM        8674   \n",
       "32    Tongan Exclusive Economic Zone        8674    200NM        8674   \n",
       "...                              ...         ...      ...         ...   \n",
       "2947  Tongan Exclusive Economic Zone        8674    200NM        8674   \n",
       "2953  Tongan Exclusive Economic Zone        8674    200NM        8674   \n",
       "2954  Tongan Exclusive Economic Zone        8674    200NM        8674   \n",
       "2955  Tongan Exclusive Economic Zone        8674    200NM        8674   \n",
       "2956  Tongan Exclusive Economic Zone        8674    200NM        8674   \n",
       "\n",
       "     territory1  ... area_km2 iso_sov1  iso_sov2  iso_sov3 un_sov1 un_sov2  \\\n",
       "28        Tonga  ...   666052      TON      None      None     776    None   \n",
       "29        Tonga  ...   666052      TON      None      None     776    None   \n",
       "30        Tonga  ...   666052      TON      None      None     776    None   \n",
       "31        Tonga  ...   666052      TON      None      None     776    None   \n",
       "32        Tonga  ...   666052      TON      None      None     776    None   \n",
       "...         ...  ...      ...      ...       ...       ...     ...     ...   \n",
       "2947      Tonga  ...   666052      TON      None      None     776    None   \n",
       "2953      Tonga  ...   666052      TON      None      None     776    None   \n",
       "2954      Tonga  ...   666052      TON      None      None     776    None   \n",
       "2955      Tonga  ...   666052      TON      None      None     776    None   \n",
       "2956      Tonga  ...   666052      TON      None      None     776    None   \n",
       "\n",
       "     un_sov3  un_ter1  un_ter2 un_ter3  \n",
       "28      None      776     None    None  \n",
       "29      None      776     None    None  \n",
       "30      None      776     None    None  \n",
       "31      None      776     None    None  \n",
       "32      None      776     None    None  \n",
       "...      ...      ...      ...     ...  \n",
       "2947    None      776     None    None  \n",
       "2953    None      776     None    None  \n",
       "2954    None      776     None    None  \n",
       "2955    None      776     None    None  \n",
       "2956    None      776     None    None  \n",
       "\n",
       "[921 rows x 35 columns]"
      ]
     },
     "execution_count": 18,
     "metadata": {},
     "output_type": "execute_result"
    }
   ],
   "source": [
    "geomorphic_tonga_eez"
   ]
  },
  {
   "cell_type": "markdown",
   "metadata": {},
   "source": [
    "# 3. Reprojection of Benthic and Geomorphic Layers\n",
    "\n",
    "We now have the benthic and geomorphic layers for Tonga, but before we can do any further analyses, we have to ensure that we have the right map projection. More information on choosing the correct map projections can be found [here](https://learn.arcgis.com/en/projects/choose-the-right-projection/). To get an accurate estimate of percent distribution, it is imperative to reproject the layers to an equal area projection. The ACA has a default projection of EPSG:4326. Within our `reproject` function below, we've chosen the Mollweide projection (ESRI:54009) which has a suitable extent for the world."
   ]
  },
  {
   "cell_type": "markdown",
   "metadata": {},
   "source": [
    "A quick overview of the `reproject` function is to set the original CRS before projecting, which in this case for the ACA is EPSG:4326, and then we reproject to our desired map projection and simultaneously calculate the area for each feature in km<sup>2</sup>. This new area is also added as a new column in our geodataframe."
   ]
  },
  {
   "cell_type": "code",
   "execution_count": 19,
   "metadata": {},
   "outputs": [],
   "source": [
    "def reproject(eez_geodataframe, projection_identifier):\n",
    "    '''Reprojects a geodataframe to the user provided projection'''\n",
    "    # e.g. Mollweide would be 'ESRI:54009'\n",
    "    # set original CRS before reprojecting, in this case, the data obtained \n",
    "    # from the Allen Coral Atlas is in the EPSG:4326 format\n",
    "    eez_geodataframe.crs = 'EPSG:4326'\n",
    "    \n",
    "    # adds a column, 'reprojected_area' that converts the \n",
    "    # current area to user provided projection\n",
    "    eez_geodataframe['reprojected_area'] = eez_geodataframe['geometry'].to_crs(projection_identifier).map(lambda p: p.area / 10**6)\n",
    "    \n",
    "    return eez_geodataframe"
   ]
  },
  {
   "cell_type": "code",
   "execution_count": 20,
   "metadata": {},
   "outputs": [],
   "source": [
    "reprojected_tonga_benthic = reproject(benthic_tonga_eez, 'ESRI:54009')"
   ]
  },
  {
   "cell_type": "code",
   "execution_count": 21,
   "metadata": {},
   "outputs": [],
   "source": [
    "reprojected_tonga_geomorphic = reproject(geomorphic_tonga_eez, 'ESRI:54009')"
   ]
  },
  {
   "cell_type": "markdown",
   "metadata": {},
   "source": [
    "# 4. Calculating the Percent Distribution of Benthic and Geomorphic Classes\n",
    "\n",
    "With our reprojected benthic and geomorphic layers, we can now calculate the percent distribution by benthic/geomorphic subtypes.\n",
    "\n",
    "In the `calculate_percent_distribution` function, we first calculate the total area for the classes and then calculate the subtotals in a new geodataframe."
   ]
  },
  {
   "cell_type": "code",
   "execution_count": 22,
   "metadata": {},
   "outputs": [],
   "source": [
    "def calculate_percent_distribution(eez_geodataframe): \n",
    "    # generates a new dataframe containing the subtotal \n",
    "    # of the area of benthic/geomorphic classes \n",
    "    eez_geodataframe_subtotals = eez_geodataframe.groupby('class_name')['reprojected_area'].sum().to_frame()\n",
    "    \n",
    "    # adds a new column that has the percent distribution\n",
    "    # for each class\n",
    "    eez_geodataframe_subtotals['percent_distribution'] = eez_geodataframe_subtotals['reprojected_area'].map(lambda p: p/sum(eez_geodataframe_subtotals['reprojected_area']) * 100)\n",
    "\n",
    "    return eez_geodataframe_subtotals"
   ]
  },
  {
   "cell_type": "markdown",
   "metadata": {},
   "source": [
    "### Tonga Benthic Class Percent Distribution\n",
    "Let's now calculate the benthic percent distribution for Tonga."
   ]
  },
  {
   "cell_type": "code",
   "execution_count": 23,
   "metadata": {
    "scrolled": true
   },
   "outputs": [],
   "source": [
    "benthic_tonga = calculate_percent_distribution(reprojected_tonga_benthic)"
   ]
  },
  {
   "cell_type": "markdown",
   "metadata": {},
   "source": [
    "Now, if we take a look at our newly generated dataframe, we can see the benthic composition of the EEZ of Tonga."
   ]
  },
  {
   "cell_type": "code",
   "execution_count": 24,
   "metadata": {
    "scrolled": true
   },
   "outputs": [
    {
     "data": {
      "text/html": [
       "<div>\n",
       "<style scoped>\n",
       "    .dataframe tbody tr th:only-of-type {\n",
       "        vertical-align: middle;\n",
       "    }\n",
       "\n",
       "    .dataframe tbody tr th {\n",
       "        vertical-align: top;\n",
       "    }\n",
       "\n",
       "    .dataframe thead th {\n",
       "        text-align: right;\n",
       "    }\n",
       "</style>\n",
       "<table border=\"1\" class=\"dataframe\">\n",
       "  <thead>\n",
       "    <tr style=\"text-align: right;\">\n",
       "      <th></th>\n",
       "      <th>reprojected_area</th>\n",
       "      <th>percent_distribution</th>\n",
       "    </tr>\n",
       "    <tr>\n",
       "      <th>class_name</th>\n",
       "      <th></th>\n",
       "      <th></th>\n",
       "    </tr>\n",
       "  </thead>\n",
       "  <tbody>\n",
       "    <tr>\n",
       "      <th>Coral/Algae</th>\n",
       "      <td>1078.979727</td>\n",
       "      <td>71.181245</td>\n",
       "    </tr>\n",
       "    <tr>\n",
       "      <th>Microalgal Mats</th>\n",
       "      <td>58.766851</td>\n",
       "      <td>3.876901</td>\n",
       "    </tr>\n",
       "    <tr>\n",
       "      <th>Rock</th>\n",
       "      <td>150.511649</td>\n",
       "      <td>9.929386</td>\n",
       "    </tr>\n",
       "    <tr>\n",
       "      <th>Rubble</th>\n",
       "      <td>78.116097</td>\n",
       "      <td>5.153388</td>\n",
       "    </tr>\n",
       "    <tr>\n",
       "      <th>Sand</th>\n",
       "      <td>117.352202</td>\n",
       "      <td>7.741828</td>\n",
       "    </tr>\n",
       "    <tr>\n",
       "      <th>Seagrass</th>\n",
       "      <td>32.093725</td>\n",
       "      <td>2.117251</td>\n",
       "    </tr>\n",
       "  </tbody>\n",
       "</table>\n",
       "</div>"
      ],
      "text/plain": [
       "                 reprojected_area  percent_distribution\n",
       "class_name                                             \n",
       "Coral/Algae           1078.979727             71.181245\n",
       "Microalgal Mats         58.766851              3.876901\n",
       "Rock                   150.511649              9.929386\n",
       "Rubble                  78.116097              5.153388\n",
       "Sand                   117.352202              7.741828\n",
       "Seagrass                32.093725              2.117251"
      ]
     },
     "execution_count": 24,
     "metadata": {},
     "output_type": "execute_result"
    }
   ],
   "source": [
    "benthic_tonga"
   ]
  },
  {
   "cell_type": "markdown",
   "metadata": {},
   "source": [
    "### Tonga Geomorphic Class Percent Distribution\n",
    "And we can do the same for the geomorphic class."
   ]
  },
  {
   "cell_type": "code",
   "execution_count": 25,
   "metadata": {},
   "outputs": [],
   "source": [
    "geomorphic_tonga = calculate_percent_distribution(reprojected_tonga_geomorphic)"
   ]
  },
  {
   "cell_type": "code",
   "execution_count": 26,
   "metadata": {},
   "outputs": [
    {
     "data": {
      "text/html": [
       "<div>\n",
       "<style scoped>\n",
       "    .dataframe tbody tr th:only-of-type {\n",
       "        vertical-align: middle;\n",
       "    }\n",
       "\n",
       "    .dataframe tbody tr th {\n",
       "        vertical-align: top;\n",
       "    }\n",
       "\n",
       "    .dataframe thead th {\n",
       "        text-align: right;\n",
       "    }\n",
       "</style>\n",
       "<table border=\"1\" class=\"dataframe\">\n",
       "  <thead>\n",
       "    <tr style=\"text-align: right;\">\n",
       "      <th></th>\n",
       "      <th>reprojected_area</th>\n",
       "      <th>percent_distribution</th>\n",
       "    </tr>\n",
       "    <tr>\n",
       "      <th>class_name</th>\n",
       "      <th></th>\n",
       "      <th></th>\n",
       "    </tr>\n",
       "  </thead>\n",
       "  <tbody>\n",
       "    <tr>\n",
       "      <th>Back Reef Slope</th>\n",
       "      <td>101.586671</td>\n",
       "      <td>5.278041</td>\n",
       "    </tr>\n",
       "    <tr>\n",
       "      <th>Deep Lagoon</th>\n",
       "      <td>192.095469</td>\n",
       "      <td>9.980520</td>\n",
       "    </tr>\n",
       "    <tr>\n",
       "      <th>Inner Reef Flat</th>\n",
       "      <td>120.025226</td>\n",
       "      <td>6.236035</td>\n",
       "    </tr>\n",
       "    <tr>\n",
       "      <th>Outer Reef Flat</th>\n",
       "      <td>154.867529</td>\n",
       "      <td>8.046303</td>\n",
       "    </tr>\n",
       "    <tr>\n",
       "      <th>Plateau</th>\n",
       "      <td>223.757162</td>\n",
       "      <td>11.625536</td>\n",
       "    </tr>\n",
       "    <tr>\n",
       "      <th>Reef Crest</th>\n",
       "      <td>53.473152</td>\n",
       "      <td>2.778253</td>\n",
       "    </tr>\n",
       "    <tr>\n",
       "      <th>Reef Slope</th>\n",
       "      <td>746.800888</td>\n",
       "      <td>38.800816</td>\n",
       "    </tr>\n",
       "    <tr>\n",
       "      <th>Shallow Lagoon</th>\n",
       "      <td>85.681616</td>\n",
       "      <td>4.451677</td>\n",
       "    </tr>\n",
       "    <tr>\n",
       "      <th>Sheltered Reef Slope</th>\n",
       "      <td>92.475098</td>\n",
       "      <td>4.804640</td>\n",
       "    </tr>\n",
       "    <tr>\n",
       "      <th>Terrestrial Reef Flat</th>\n",
       "      <td>153.941245</td>\n",
       "      <td>7.998177</td>\n",
       "    </tr>\n",
       "  </tbody>\n",
       "</table>\n",
       "</div>"
      ],
      "text/plain": [
       "                       reprojected_area  percent_distribution\n",
       "class_name                                                   \n",
       "Back Reef Slope              101.586671              5.278041\n",
       "Deep Lagoon                  192.095469              9.980520\n",
       "Inner Reef Flat              120.025226              6.236035\n",
       "Outer Reef Flat              154.867529              8.046303\n",
       "Plateau                      223.757162             11.625536\n",
       "Reef Crest                    53.473152              2.778253\n",
       "Reef Slope                   746.800888             38.800816\n",
       "Shallow Lagoon                85.681616              4.451677\n",
       "Sheltered Reef Slope          92.475098              4.804640\n",
       "Terrestrial Reef Flat        153.941245              7.998177"
      ]
     },
     "execution_count": 26,
     "metadata": {},
     "output_type": "execute_result"
    }
   ],
   "source": [
    "geomorphic_tonga"
   ]
  },
  {
   "cell_type": "markdown",
   "metadata": {},
   "source": [
    "# 5. Visualization: Reproducing Donut Charts from the Web Platform\n",
    "Using the `matplotlib` library and this [tutorial](https://towardsdatascience.com/donut-plot-with-matplotlib-python-be3451f22704), here's how we can reproduce the graph from the web platform. In addition, the graphs can be easily customized as needed."
   ]
  },
  {
   "cell_type": "markdown",
   "metadata": {},
   "source": [
    "### Tonga Benthic Class Distribution"
   ]
  },
  {
   "cell_type": "code",
   "execution_count": 27,
   "metadata": {},
   "outputs": [],
   "source": [
    "def plot_benthic(benthic_layer_geodataframe, eez_name):\n",
    "    # Donut chart\n",
    "    labels = list(benthic_layer_geodataframe.index)\n",
    "    color_dict = {'Coral/Algae': '#ff6157',\n",
    "                  'Microalgal Mats': '#9bcc4f',\n",
    "                  'Rock': '#b19c3a',\n",
    "                  'Rubble': '#e0d05e',\n",
    "                  'Sand': '#ffffbe',\n",
    "                  'Seagrass': '#668438'}\n",
    "    colors = []\n",
    "    for class_name in list(benthic_layer_geodataframe.index):\n",
    "        if color_dict[class_name]:\n",
    "            colors.append(color_dict[class_name])\n",
    "            \n",
    "    sizes = list(benthic_layer_geodataframe['percent_distribution'])\n",
    "\n",
    "    fig1, ax1 = plt.subplots()\n",
    "    ax1.pie(sizes, colors = colors, labels=labels, autopct='%1.1f%%', startangle=90)\n",
    "\n",
    "    # Draw circle\n",
    "    centre_circle = plt.Circle((0,0),0.70,fc='white')\n",
    "    fig = plt.gcf()\n",
    "    fig.gca().add_artist(centre_circle)\n",
    "\n",
    "    # Equal aspect ratio ensures that pie is drawn as a circle\n",
    "    ax1.axis('equal')  \n",
    "    plt.tight_layout()\n",
    "    plt.title(eez_name + ' Benthic Class Distribution', pad=20)\n",
    "    plt.show()"
   ]
  },
  {
   "cell_type": "code",
   "execution_count": 28,
   "metadata": {},
   "outputs": [
    {
     "data": {
      "image/png": "[encoded data removed]",
      "text/plain": [
       "<Figure size 432x288 with 1 Axes>"
      ]
     },
     "metadata": {},
     "output_type": "display_data"
    }
   ],
   "source": [
    "plot_benthic(benthic_tonga, 'Tonga')"
   ]
  },
  {
   "cell_type": "markdown",
   "metadata": {},
   "source": [
    "### Tonga Geomorphic Class Distribution"
   ]
  },
  {
   "cell_type": "code",
   "execution_count": 29,
   "metadata": {
    "scrolled": false
   },
   "outputs": [],
   "source": [
    "def plot_geomorphic(geomorphic_layer_geodataframe, eez_name):\n",
    "    # Donut chart\n",
    "    labels = list(geomorphic_layer_geodataframe.index)\n",
    "    colors = []\n",
    "    color_dict = {'Back Reef Slope': '#befbff',\n",
    "                 'Deep Lagoon': '#2ca2f9',\n",
    "                 'Inner Reef Flat': '#c5a7cb',\n",
    "                 'Outer Reef Flat': '#9a7fa4',\n",
    "                 'Plateau': '#cd6812',\n",
    "                 'Reef Crest': '#614272',\n",
    "                 'Reef Slope': '#288471',\n",
    "                 'Shallow Lagoon': '#77d0fc',\n",
    "                 'Sheltered Reef Slope': '#10bda6',\n",
    "                 'Terrestrial Reef Flat': '#fbdefb'}\n",
    "    for class_name in list(geomorphic_layer_geodataframe.index):\n",
    "        if color_dict[class_name]:\n",
    "            colors.append(color_dict[class_name])\n",
    "        \n",
    "    sizes = list(geomorphic_layer_geodataframe['percent_distribution'])\n",
    "    \n",
    "    fig1, ax1 = plt.subplots()\n",
    "    ax1.pie(sizes, colors = colors, labels=labels, autopct='%1.1f%%', startangle=90)\n",
    "\n",
    "    # Draw circle\n",
    "    centre_circle = plt.Circle((0,0),0.70,fc='white')\n",
    "    fig = plt.gcf()\n",
    "    fig.gca().add_artist(centre_circle)\n",
    "\n",
    "    # Equal aspect ratio ensures that pie is drawn as a circle\n",
    "    ax1.axis('equal')  \n",
    "    plt.tight_layout()\n",
    "    plt.title(eez_name + ' Geomorphic Class Distribution', pad=20)\n",
    "    plt.show()"
   ]
  },
  {
   "cell_type": "code",
   "execution_count": 30,
   "metadata": {},
   "outputs": [
    {
     "data": {
      "image/png": "[encoded data removed]",
      "text/plain": [
       "<Figure size 432x288 with 1 Axes>"
      ]
     },
     "metadata": {},
     "output_type": "display_data"
    }
   ],
   "source": [
    "plot_geomorphic(geomorphic_tonga, 'Tonga')"
   ]
  },
  {
   "cell_type": "markdown",
   "metadata": {},
   "source": [
    "# 6. Comparison between Tonga and Jamaica\n",
    "We can also easily see the diversity between Tonga and Jamaica. Briefly, we'll go through the steps as we did with Tonga for Jamaica."
   ]
  },
  {
   "cell_type": "code",
   "execution_count": 31,
   "metadata": {},
   "outputs": [
    {
     "data": {
      "text/plain": [
       "8459"
      ]
     },
     "execution_count": 31,
     "metadata": {},
     "output_type": "execute_result"
    }
   ],
   "source": [
    "mrgid_dict['Jamaica']"
   ]
  },
  {
   "cell_type": "code",
   "execution_count": 32,
   "metadata": {},
   "outputs": [],
   "source": [
    "jamaica = get_eez_map(mrgid_dict['Jamaica'])\n",
    "jamaica_bbox = make_bounding_box(jamaica)"
   ]
  },
  {
   "cell_type": "code",
   "execution_count": 33,
   "metadata": {},
   "outputs": [
    {
     "data": {
      "text/plain": [
       "(-80.83305556, 14.08333333, -74.00943069, 19.35780663)"
      ]
     },
     "execution_count": 33,
     "metadata": {},
     "output_type": "execute_result"
    }
   ],
   "source": [
    "jamaica_bbox"
   ]
  },
  {
   "cell_type": "code",
   "execution_count": 34,
   "metadata": {},
   "outputs": [],
   "source": [
    "jamaica_geomorphic = get_aca_layer(['geomorphic_data_verbose'], jamaica_bbox)"
   ]
  },
  {
   "cell_type": "code",
   "execution_count": 35,
   "metadata": {},
   "outputs": [],
   "source": [
    "jamaica_benthic = get_aca_layer(['benthic_data_verbose'], jamaica_bbox)"
   ]
  },
  {
   "cell_type": "code",
   "execution_count": 36,
   "metadata": {},
   "outputs": [],
   "source": [
    "jamaica_geomorphic_eez = eez_intersection(jamaica_geomorphic, jamaica)"
   ]
  },
  {
   "cell_type": "code",
   "execution_count": 37,
   "metadata": {},
   "outputs": [],
   "source": [
    "jamaica_benthic_eez = eez_intersection(jamaica_benthic, jamaica)"
   ]
  },
  {
   "cell_type": "code",
   "execution_count": 38,
   "metadata": {},
   "outputs": [],
   "source": [
    "reprojected_jamaica_benthic = reproject(jamaica_benthic_eez, 'ESRI:54012')"
   ]
  },
  {
   "cell_type": "code",
   "execution_count": 39,
   "metadata": {},
   "outputs": [],
   "source": [
    "reprojected_jamaica_geomorphic = reproject(jamaica_geomorphic_eez, 'ESRI:54012')"
   ]
  },
  {
   "cell_type": "code",
   "execution_count": 40,
   "metadata": {},
   "outputs": [],
   "source": [
    "benthic_jamaica = calculate_percent_distribution(reprojected_jamaica_benthic)"
   ]
  },
  {
   "cell_type": "code",
   "execution_count": 41,
   "metadata": {},
   "outputs": [],
   "source": [
    "geomorphic_jamaica = calculate_percent_distribution(reprojected_jamaica_geomorphic)"
   ]
  },
  {
   "cell_type": "markdown",
   "metadata": {},
   "source": [
    "Let's first take a look at the benthic distributions:"
   ]
  },
  {
   "cell_type": "code",
   "execution_count": 42,
   "metadata": {
    "scrolled": true
   },
   "outputs": [
    {
     "data": {
      "image/png": "[encoded data removed]",
      "text/plain": [
       "<Figure size 432x288 with 1 Axes>"
      ]
     },
     "metadata": {},
     "output_type": "display_data"
    },
    {
     "data": {
      "image/png": "[encoded data removed]",
      "text/plain": [
       "<Figure size 432x288 with 1 Axes>"
      ]
     },
     "metadata": {},
     "output_type": "display_data"
    }
   ],
   "source": [
    "plot_benthic(benthic_tonga, 'Tonga')\n",
    "plot_benthic(benthic_jamaica, 'Jamaica')"
   ]
  },
  {
   "cell_type": "markdown",
   "metadata": {},
   "source": [
    "With the charts displayed, we can appreciate the diversity between the corals in the Caribbean and South Pacific Ocean. Characteristic of the Caribbean environment, there is a high density of seagrass.\n",
    "Let's also take a look at the geomorphic distribution:"
   ]
  },
  {
   "cell_type": "code",
   "execution_count": 43,
   "metadata": {
    "scrolled": true
   },
   "outputs": [
    {
     "data": {
      "image/png": "[encoded data removed]",
      "text/plain": [
       "<Figure size 432x288 with 1 Axes>"
      ]
     },
     "metadata": {},
     "output_type": "display_data"
    },
    {
     "data": {
      "image/png": "[encoded data removed]",
      "text/plain": [
       "<Figure size 432x288 with 1 Axes>"
      ]
     },
     "metadata": {},
     "output_type": "display_data"
    }
   ],
   "source": [
    "plot_geomorphic(geomorphic_tonga, 'Tonga')\n",
    "plot_geomorphic(geomorphic_jamaica, 'Jamaica')"
   ]
  },
  {
   "cell_type": "code",
   "execution_count": null,
   "metadata": {},
   "outputs": [],
   "source": []
  }
 ],
 "metadata": {
  "kernelspec": {
   "display_name": "Python 3",
   "language": "python",
   "name": "python3"
  },
  "language_info": {
   "codemirror_mode": {
    "name": "ipython",
    "version": 3
   },
   "file_extension": ".py",
   "mimetype": "text/x-python",
   "name": "python",
   "nbconvert_exporter": "python",
   "pygments_lexer": "ipython3",
   "version": "3.7.7"
  }
 },
 "nbformat": 4,
 "nbformat_minor": 2
}
